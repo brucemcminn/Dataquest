{
 "cells": [
  {
   "cell_type": "markdown",
   "metadata": {},
   "source": [
    "# Nobody Likes Traffic\n",
    "## Signs It's Slowing Down on I-94"
   ]
  },
  {
   "cell_type": "markdown",
   "metadata": {},
   "source": [
    "## Introduction\n",
    "This analysis is attempting to identify factors associated with heavy traffic.\n",
    "\n",
    "The dataset is comprised of daily and hourly entries for westbound traffic midway between Minneapolis and St. Paul, the largest and capital cities, respectively, in Minnesota. It was collected from a Department of Transportation station on interstate 94 between October 2012 and September 2018.\n",
    "\n",
    "The dataset was created by John Hogue from the UCI Machine Learning Repository.\n",
    "https://archive.ics.uci.edu/ml/datasets/Metro+Interstate+Traffic+Volume\n",
    "\n",
    "The colors used are the University of Minnesota school colors, gold for graphs and maroon for line plots. Go Gophers!"
   ]
  },
  {
   "cell_type": "code",
   "execution_count": 1,
   "metadata": {},
   "outputs": [],
   "source": [
    "# import libraries, open file, set display options\n",
    "import pandas as pd\n",
    "import matplotlib.pyplot as plt\n",
    "%matplotlib inline\n",
    "import numpy as np\n",
    "import pprint\n",
    "pd.options.display.float_format = '{:20,.4f}'.format\n",
    "traffic = pd.read_csv(\"Metro_Interstate_Traffic_Volume.csv\")\n",
    "pd.set_option('display.max_rows', None)\n",
    "pd.set_option('display.max_columns', None)\n",
    "pd.set_option('display.width', 1000)\n",
    "pd.set_option('display.colheader_justify', 'center')\n",
    "pd.set_option('display.precision', 3)"
   ]
  },
  {
   "cell_type": "markdown",
   "metadata": {},
   "source": [
    "## Examine Data\n",
    "A quick look at the beginning and ending of the data set shows nine columns with a mix of  categorical text and numeric information. The source of the data set states that an automatic traffic recorder (ATR) was used to tabulate traffic volume. It is expressed in the number of vehicles per hour.\n",
    "* There don't appear to be any missing values.\n",
    "* The statistical description looks unusual for rain and snow. There aren't any quartile values listed.\n",
    "* The units for temperature don't look familiar and the max rain value seems high as well."
   ]
  },
  {
   "cell_type": "code",
   "execution_count": 2,
   "metadata": {
    "scrolled": true
   },
   "outputs": [
    {
     "data": {
      "text/html": [
       "<div>\n",
       "<style scoped>\n",
       "    .dataframe tbody tr th:only-of-type {\n",
       "        vertical-align: middle;\n",
       "    }\n",
       "\n",
       "    .dataframe tbody tr th {\n",
       "        vertical-align: top;\n",
       "    }\n",
       "\n",
       "    .dataframe thead th {\n",
       "        text-align: right;\n",
       "    }\n",
       "</style>\n",
       "<table border=\"1\" class=\"dataframe\">\n",
       "  <thead>\n",
       "    <tr style=\"text-align: center;\">\n",
       "      <th></th>\n",
       "      <th>holiday</th>\n",
       "      <th>temp</th>\n",
       "      <th>rain_1h</th>\n",
       "      <th>snow_1h</th>\n",
       "      <th>clouds_all</th>\n",
       "      <th>weather_main</th>\n",
       "      <th>weather_description</th>\n",
       "      <th>date_time</th>\n",
       "      <th>traffic_volume</th>\n",
       "    </tr>\n",
       "  </thead>\n",
       "  <tbody>\n",
       "    <tr>\n",
       "      <th>0</th>\n",
       "      <td>None</td>\n",
       "      <td>288.2800</td>\n",
       "      <td>0.0000</td>\n",
       "      <td>0.0000</td>\n",
       "      <td>40</td>\n",
       "      <td>Clouds</td>\n",
       "      <td>scattered clouds</td>\n",
       "      <td>2012-10-02 09:00:00</td>\n",
       "      <td>5545</td>\n",
       "    </tr>\n",
       "    <tr>\n",
       "      <th>1</th>\n",
       "      <td>None</td>\n",
       "      <td>289.3600</td>\n",
       "      <td>0.0000</td>\n",
       "      <td>0.0000</td>\n",
       "      <td>75</td>\n",
       "      <td>Clouds</td>\n",
       "      <td>broken clouds</td>\n",
       "      <td>2012-10-02 10:00:00</td>\n",
       "      <td>4516</td>\n",
       "    </tr>\n",
       "    <tr>\n",
       "      <th>2</th>\n",
       "      <td>None</td>\n",
       "      <td>289.5800</td>\n",
       "      <td>0.0000</td>\n",
       "      <td>0.0000</td>\n",
       "      <td>90</td>\n",
       "      <td>Clouds</td>\n",
       "      <td>overcast clouds</td>\n",
       "      <td>2012-10-02 11:00:00</td>\n",
       "      <td>4767</td>\n",
       "    </tr>\n",
       "    <tr>\n",
       "      <th>3</th>\n",
       "      <td>None</td>\n",
       "      <td>290.1300</td>\n",
       "      <td>0.0000</td>\n",
       "      <td>0.0000</td>\n",
       "      <td>90</td>\n",
       "      <td>Clouds</td>\n",
       "      <td>overcast clouds</td>\n",
       "      <td>2012-10-02 12:00:00</td>\n",
       "      <td>5026</td>\n",
       "    </tr>\n",
       "    <tr>\n",
       "      <th>4</th>\n",
       "      <td>None</td>\n",
       "      <td>291.1400</td>\n",
       "      <td>0.0000</td>\n",
       "      <td>0.0000</td>\n",
       "      <td>75</td>\n",
       "      <td>Clouds</td>\n",
       "      <td>broken clouds</td>\n",
       "      <td>2012-10-02 13:00:00</td>\n",
       "      <td>4918</td>\n",
       "    </tr>\n",
       "  </tbody>\n",
       "</table>\n",
       "</div>"
      ],
      "text/plain": [
       "  holiday         temp                rain_1h              snow_1h        clouds_all weather_main weather_description      date_time        traffic_volume\n",
       "0   None              288.2800               0.0000               0.0000      40        Clouds      scattered clouds   2012-10-02 09:00:00       5545     \n",
       "1   None              289.3600               0.0000               0.0000      75        Clouds         broken clouds   2012-10-02 10:00:00       4516     \n",
       "2   None              289.5800               0.0000               0.0000      90        Clouds       overcast clouds   2012-10-02 11:00:00       4767     \n",
       "3   None              290.1300               0.0000               0.0000      90        Clouds       overcast clouds   2012-10-02 12:00:00       5026     \n",
       "4   None              291.1400               0.0000               0.0000      75        Clouds         broken clouds   2012-10-02 13:00:00       4918     "
      ]
     },
     "metadata": {},
     "output_type": "display_data"
    },
    {
     "data": {
      "text/html": [
       "<div>\n",
       "<style scoped>\n",
       "    .dataframe tbody tr th:only-of-type {\n",
       "        vertical-align: middle;\n",
       "    }\n",
       "\n",
       "    .dataframe tbody tr th {\n",
       "        vertical-align: top;\n",
       "    }\n",
       "\n",
       "    .dataframe thead th {\n",
       "        text-align: right;\n",
       "    }\n",
       "</style>\n",
       "<table border=\"1\" class=\"dataframe\">\n",
       "  <thead>\n",
       "    <tr style=\"text-align: center;\">\n",
       "      <th></th>\n",
       "      <th>holiday</th>\n",
       "      <th>temp</th>\n",
       "      <th>rain_1h</th>\n",
       "      <th>snow_1h</th>\n",
       "      <th>clouds_all</th>\n",
       "      <th>weather_main</th>\n",
       "      <th>weather_description</th>\n",
       "      <th>date_time</th>\n",
       "      <th>traffic_volume</th>\n",
       "    </tr>\n",
       "  </thead>\n",
       "  <tbody>\n",
       "    <tr>\n",
       "      <th>48199</th>\n",
       "      <td>None</td>\n",
       "      <td>283.4500</td>\n",
       "      <td>0.0000</td>\n",
       "      <td>0.0000</td>\n",
       "      <td>75</td>\n",
       "      <td>Clouds</td>\n",
       "      <td>broken clouds</td>\n",
       "      <td>2018-09-30 19:00:00</td>\n",
       "      <td>3543</td>\n",
       "    </tr>\n",
       "    <tr>\n",
       "      <th>48200</th>\n",
       "      <td>None</td>\n",
       "      <td>282.7600</td>\n",
       "      <td>0.0000</td>\n",
       "      <td>0.0000</td>\n",
       "      <td>90</td>\n",
       "      <td>Clouds</td>\n",
       "      <td>overcast clouds</td>\n",
       "      <td>2018-09-30 20:00:00</td>\n",
       "      <td>2781</td>\n",
       "    </tr>\n",
       "    <tr>\n",
       "      <th>48201</th>\n",
       "      <td>None</td>\n",
       "      <td>282.7300</td>\n",
       "      <td>0.0000</td>\n",
       "      <td>0.0000</td>\n",
       "      <td>90</td>\n",
       "      <td>Thunderstorm</td>\n",
       "      <td>proximity thunderstorm</td>\n",
       "      <td>2018-09-30 21:00:00</td>\n",
       "      <td>2159</td>\n",
       "    </tr>\n",
       "    <tr>\n",
       "      <th>48202</th>\n",
       "      <td>None</td>\n",
       "      <td>282.0900</td>\n",
       "      <td>0.0000</td>\n",
       "      <td>0.0000</td>\n",
       "      <td>90</td>\n",
       "      <td>Clouds</td>\n",
       "      <td>overcast clouds</td>\n",
       "      <td>2018-09-30 22:00:00</td>\n",
       "      <td>1450</td>\n",
       "    </tr>\n",
       "    <tr>\n",
       "      <th>48203</th>\n",
       "      <td>None</td>\n",
       "      <td>282.1200</td>\n",
       "      <td>0.0000</td>\n",
       "      <td>0.0000</td>\n",
       "      <td>90</td>\n",
       "      <td>Clouds</td>\n",
       "      <td>overcast clouds</td>\n",
       "      <td>2018-09-30 23:00:00</td>\n",
       "      <td>954</td>\n",
       "    </tr>\n",
       "  </tbody>\n",
       "</table>\n",
       "</div>"
      ],
      "text/plain": [
       "      holiday         temp                rain_1h              snow_1h        clouds_all  weather_main   weather_description        date_time        traffic_volume\n",
       "48199   None              283.4500               0.0000               0.0000      75            Clouds           broken clouds  2018-09-30 19:00:00       3543     \n",
       "48200   None              282.7600               0.0000               0.0000      90            Clouds         overcast clouds  2018-09-30 20:00:00       2781     \n",
       "48201   None              282.7300               0.0000               0.0000      90      Thunderstorm  proximity thunderstorm  2018-09-30 21:00:00       2159     \n",
       "48202   None              282.0900               0.0000               0.0000      90            Clouds         overcast clouds  2018-09-30 22:00:00       1450     \n",
       "48203   None              282.1200               0.0000               0.0000      90            Clouds         overcast clouds  2018-09-30 23:00:00        954     "
      ]
     },
     "metadata": {},
     "output_type": "display_data"
    },
    {
     "name": "stdout",
     "output_type": "stream",
     "text": [
      "<class 'pandas.core.frame.DataFrame'>\n",
      "RangeIndex: 48204 entries, 0 to 48203\n",
      "Data columns (total 9 columns):\n",
      " #   Column               Non-Null Count  Dtype  \n",
      "---  ------               --------------  -----  \n",
      " 0   holiday              48204 non-null  object \n",
      " 1   temp                 48204 non-null  float64\n",
      " 2   rain_1h              48204 non-null  float64\n",
      " 3   snow_1h              48204 non-null  float64\n",
      " 4   clouds_all           48204 non-null  int64  \n",
      " 5   weather_main         48204 non-null  object \n",
      " 6   weather_description  48204 non-null  object \n",
      " 7   date_time            48204 non-null  object \n",
      " 8   traffic_volume       48204 non-null  int64  \n",
      "dtypes: float64(3), int64(2), object(4)\n",
      "memory usage: 3.3+ MB\n"
     ]
    },
    {
     "data": {
      "text/plain": [
       "None"
      ]
     },
     "metadata": {},
     "output_type": "display_data"
    },
    {
     "data": {
      "text/html": [
       "<div>\n",
       "<style scoped>\n",
       "    .dataframe tbody tr th:only-of-type {\n",
       "        vertical-align: middle;\n",
       "    }\n",
       "\n",
       "    .dataframe tbody tr th {\n",
       "        vertical-align: top;\n",
       "    }\n",
       "\n",
       "    .dataframe thead th {\n",
       "        text-align: right;\n",
       "    }\n",
       "</style>\n",
       "<table border=\"1\" class=\"dataframe\">\n",
       "  <thead>\n",
       "    <tr style=\"text-align: center;\">\n",
       "      <th></th>\n",
       "      <th>temp</th>\n",
       "      <th>rain_1h</th>\n",
       "      <th>snow_1h</th>\n",
       "      <th>clouds_all</th>\n",
       "      <th>traffic_volume</th>\n",
       "    </tr>\n",
       "  </thead>\n",
       "  <tbody>\n",
       "    <tr>\n",
       "      <th>count</th>\n",
       "      <td>48,204.0000</td>\n",
       "      <td>48,204.0000</td>\n",
       "      <td>48,204.0000</td>\n",
       "      <td>48,204.0000</td>\n",
       "      <td>48,204.0000</td>\n",
       "    </tr>\n",
       "    <tr>\n",
       "      <th>mean</th>\n",
       "      <td>281.2059</td>\n",
       "      <td>0.3343</td>\n",
       "      <td>0.0002</td>\n",
       "      <td>49.3622</td>\n",
       "      <td>3,259.8184</td>\n",
       "    </tr>\n",
       "    <tr>\n",
       "      <th>std</th>\n",
       "      <td>13.3382</td>\n",
       "      <td>44.7891</td>\n",
       "      <td>0.0082</td>\n",
       "      <td>39.0158</td>\n",
       "      <td>1,986.8607</td>\n",
       "    </tr>\n",
       "    <tr>\n",
       "      <th>min</th>\n",
       "      <td>0.0000</td>\n",
       "      <td>0.0000</td>\n",
       "      <td>0.0000</td>\n",
       "      <td>0.0000</td>\n",
       "      <td>0.0000</td>\n",
       "    </tr>\n",
       "    <tr>\n",
       "      <th>25%</th>\n",
       "      <td>272.1600</td>\n",
       "      <td>0.0000</td>\n",
       "      <td>0.0000</td>\n",
       "      <td>1.0000</td>\n",
       "      <td>1,193.0000</td>\n",
       "    </tr>\n",
       "    <tr>\n",
       "      <th>50%</th>\n",
       "      <td>282.4500</td>\n",
       "      <td>0.0000</td>\n",
       "      <td>0.0000</td>\n",
       "      <td>64.0000</td>\n",
       "      <td>3,380.0000</td>\n",
       "    </tr>\n",
       "    <tr>\n",
       "      <th>75%</th>\n",
       "      <td>291.8060</td>\n",
       "      <td>0.0000</td>\n",
       "      <td>0.0000</td>\n",
       "      <td>90.0000</td>\n",
       "      <td>4,933.0000</td>\n",
       "    </tr>\n",
       "    <tr>\n",
       "      <th>max</th>\n",
       "      <td>310.0700</td>\n",
       "      <td>9,831.3000</td>\n",
       "      <td>0.5100</td>\n",
       "      <td>100.0000</td>\n",
       "      <td>7,280.0000</td>\n",
       "    </tr>\n",
       "  </tbody>\n",
       "</table>\n",
       "</div>"
      ],
      "text/plain": [
       "              temp                rain_1h              snow_1h            clouds_all         traffic_volume   \n",
       "count          48,204.0000          48,204.0000          48,204.0000          48,204.0000          48,204.0000\n",
       "mean              281.2059               0.3343               0.0002              49.3622           3,259.8184\n",
       "std                13.3382              44.7891               0.0082              39.0158           1,986.8607\n",
       "min                 0.0000               0.0000               0.0000               0.0000               0.0000\n",
       "25%               272.1600               0.0000               0.0000               1.0000           1,193.0000\n",
       "50%               282.4500               0.0000               0.0000              64.0000           3,380.0000\n",
       "75%               291.8060               0.0000               0.0000              90.0000           4,933.0000\n",
       "max               310.0700           9,831.3000               0.5100             100.0000           7,280.0000"
      ]
     },
     "metadata": {},
     "output_type": "display_data"
    }
   ],
   "source": [
    "# display head, tail, and basic info\n",
    "display(traffic.head())\n",
    "display(traffic.tail())\n",
    "display(traffic.info())\n",
    "display(traffic.describe())"
   ]
  },
  {
   "cell_type": "markdown",
   "metadata": {},
   "source": [
    "## Clean Data\n",
    "* Looking at the frequency of no rain and no snow verses some of either shows that the data set statistics for both columns are dominated by hours in which there was no precipitation. Both of these columns report millimeters per hour. The number of hours with some snow seems particularly low for this geographical region.\n",
    "    * Creating a column with all positive rain values shows one outlier of 9,800 mm of rain that can be removed.\n",
    "    * Creating a similar snow column doesn't reveal any outliers.\n",
    "* The temperature column is in degrees Kelvin, which is useful in chemistry or physics but not traffic analysis. Converting to degrees Fahrenheit would be standard in the US.\n",
    "    * The temperature column has ten rows with outlier temperature values that can be removed."
   ]
  },
  {
   "cell_type": "code",
   "execution_count": 3,
   "metadata": {},
   "outputs": [
    {
     "name": "stdout",
     "output_type": "stream",
     "text": [
      "Hours with no rain:  44737\n",
      "Hours with some rain 3467\n",
      "Hours with no snow:  48141\n",
      "Hours with some snow:  63\n"
     ]
    }
   ],
   "source": [
    "# separate rain column by no rain or some rain\n",
    "no_rain = traffic[traffic[\"rain_1h\"] == 0]\n",
    "some_rain = traffic[traffic[\"rain_1h\"] > 0]\n",
    "print(\"Hours with no rain: \", len(no_rain))\n",
    "print(\"Hours with some rain\", len(some_rain))\n",
    "# separate snow column by no snow or some snow\n",
    "no_snow = traffic[traffic[\"snow_1h\"] == 0]\n",
    "some_snow = traffic[traffic[\"snow_1h\"] > 0]\n",
    "print(\"Hours with no snow: \", len(no_snow))\n",
    "print(\"Hours with some snow: \", len(some_snow))"
   ]
  },
  {
   "cell_type": "code",
   "execution_count": 4,
   "metadata": {},
   "outputs": [
    {
     "data": {
      "text/plain": [
       "count             3,467.0000\n",
       "mean                  4.6475\n",
       "std                 166.9703\n",
       "min                   0.2500\n",
       "25%                   0.2500\n",
       "50%                   0.6400\n",
       "75%                   1.7800\n",
       "max               9,831.3000\n",
       "Name: some_rain, dtype: float64"
      ]
     },
     "metadata": {},
     "output_type": "display_data"
    }
   ],
   "source": [
    "# create a some_rain column with any rain measurements greater than 0\n",
    "traffic[\"some_rain\"] = traffic[\"rain_1h\"][traffic[\"rain_1h\"] > 0]\n",
    "# basic stats for some_rain\n",
    "display(traffic[\"some_rain\"].describe())"
   ]
  },
  {
   "cell_type": "code",
   "execution_count": 5,
   "metadata": {
    "scrolled": true
   },
   "outputs": [
    {
     "data": {
      "text/plain": [
       "count             3,466.0000\n",
       "mean                  1.8123\n",
       "std                   3.3100\n",
       "min                   0.2500\n",
       "25%                   0.2500\n",
       "50%                   0.6400\n",
       "75%                   1.7800\n",
       "max                  55.6300\n",
       "Name: some_rain, dtype: float64"
      ]
     },
     "metadata": {},
     "output_type": "display_data"
    }
   ],
   "source": [
    "# remove row with outlier rain values\n",
    "traffic = traffic[traffic[\"rain_1h\"]<100]\n",
    "# basic stats for some_rain\n",
    "display(traffic[\"some_rain\"].describe())"
   ]
  },
  {
   "cell_type": "code",
   "execution_count": 6,
   "metadata": {},
   "outputs": [
    {
     "data": {
      "text/plain": [
       "count                63.0000\n",
       "mean                  0.1702\n",
       "std                   0.1499\n",
       "min                   0.0500\n",
       "25%                   0.0600\n",
       "50%                   0.1000\n",
       "75%                   0.2500\n",
       "max                   0.5100\n",
       "Name: some_snow, dtype: float64"
      ]
     },
     "metadata": {},
     "output_type": "display_data"
    }
   ],
   "source": [
    "# create a some_snow column with any snow measurements greater than 0\n",
    "traffic[\"some_snow\"] = traffic[\"snow_1h\"][traffic[\"snow_1h\"] > 0]\n",
    "# basic stats for some_snow\n",
    "display(traffic[\"some_snow\"].describe())"
   ]
  },
  {
   "cell_type": "code",
   "execution_count": 7,
   "metadata": {},
   "outputs": [],
   "source": [
    "# convert temperature column from Kelvin to Fahrenheit\n",
    "def k_to_f(k_temp):\n",
    "    f_temp = ((k_temp-273.15)*(9/5)) + 32\n",
    "    return f_temp\n",
    "\n",
    "traffic[\"temp\"] = traffic[\"temp\"].map(k_to_f)"
   ]
  },
  {
   "cell_type": "code",
   "execution_count": 8,
   "metadata": {
    "scrolled": true
   },
   "outputs": [
    {
     "data": {
      "text/plain": [
       "count            48,203.0000\n",
       "mean                 46.4998\n",
       "std                  24.0085\n",
       "min                -459.6700\n",
       "25%                  30.2180\n",
       "50%                  48.7400\n",
       "75%                  65.5808\n",
       "max                  98.4560\n",
       "Name: temp, dtype: float64"
      ]
     },
     "metadata": {},
     "output_type": "display_data"
    }
   ],
   "source": [
    "# basic stats for temp column\n",
    "display(traffic[\"temp\"].describe())"
   ]
  },
  {
   "cell_type": "code",
   "execution_count": 9,
   "metadata": {},
   "outputs": [],
   "source": [
    "# # look at outlier temp rows\n",
    "# cold_days = traffic[traffic[\"temp\"]<-100]\n",
    "# display(cold_days)"
   ]
  },
  {
   "cell_type": "code",
   "execution_count": 10,
   "metadata": {
    "scrolled": true
   },
   "outputs": [
    {
     "data": {
      "text/plain": [
       "count            48,193.0000\n",
       "mean                 46.6048\n",
       "std                  22.8769\n",
       "min                 -21.5680\n",
       "25%                  30.2540\n",
       "50%                  48.7580\n",
       "75%                  65.5880\n",
       "max                  98.4560\n",
       "Name: temp, dtype: float64"
      ]
     },
     "metadata": {},
     "output_type": "display_data"
    }
   ],
   "source": [
    "# remove rows with outlier temperatures\n",
    "traffic = traffic[traffic[\"temp\"]>-100]\n",
    "# basic stats for temp column\n",
    "display(traffic[\"temp\"].describe())"
   ]
  },
  {
   "cell_type": "markdown",
   "metadata": {},
   "source": [
    "## Overall traffic volume\n",
    "\n",
    "The previous statistics for traffic volume shows that the minimum value is 0, the maximum value is 7280, and that traffic is usually somewhere in the middle. A histogram shows an interesting distribution. The mean is heavily influenced by how often the traffic is really light and how often the traffic is fairly bad."
   ]
  },
  {
   "cell_type": "code",
   "execution_count": 11,
   "metadata": {},
   "outputs": [
    {
     "data": {
      "image/png": "[encoded data removed]",
      "text/plain": [
       "<Figure size 432x288 with 1 Axes>"
      ]
     },
     "metadata": {
      "needs_background": "light"
     },
     "output_type": "display_data"
    }
   ],
   "source": [
    "# create histogram of traffic volume for entire data set\n",
    "traffic[\"traffic_volume\"].plot.hist(color=\"#FFCC33\")\n",
    "plt.title(\"Vehicles per Hour\")\n",
    "plt.xticks([1000,3000,5000,7000], [1000,3000,5000,7000])\n",
    "plt.yticks([2000,4000,6000,8000], [2000,4000,6000,8000])\n",
    "plt.show()"
   ]
  },
  {
   "cell_type": "markdown",
   "metadata": {},
   "source": [
    "## Aggregate by day or night\n",
    "Creating a daytime group (7:00 am to 6:00 pm) and a nighttime group (7:00 pm to 6:00 am) reveals unsurprising differences in traffic volume.\n",
    "* The histograms clearly show:\n",
    "    * a left skewed normal distribution for daytime traffic, with the mean traffic volume of about 4,600 vehicles per hour.\n",
    "    * a right skewed distribution for nighttime traffic. The mean traffic volume is a little less than 1,800 vehicles per hour.\n",
    "* This would suggest that including the nighttime data could invalidate any conclusion. That being said, there is some occurrence of high traffic in the evenings. It would be worthwhile to take a look and see if this is just overlap from the day and what the conditions where that caused the increase."
   ]
  },
  {
   "cell_type": "code",
   "execution_count": 12,
   "metadata": {
    "scrolled": false
   },
   "outputs": [
    {
     "name": "stdout",
     "output_type": "stream",
     "text": [
      "The number of rows and columns for the day and night series.\n"
     ]
    },
    {
     "data": {
      "text/plain": [
       "(23874, 11)"
      ]
     },
     "metadata": {},
     "output_type": "display_data"
    },
    {
     "data": {
      "text/plain": [
       "(24319, 11)"
      ]
     },
     "metadata": {},
     "output_type": "display_data"
    }
   ],
   "source": [
    "# transform column to datetime\n",
    "traffic[\"date_time\"] = pd.to_datetime(traffic[\"date_time\"])\n",
    "# create date_time series\n",
    "day_night = traffic[\"date_time\"].dt.hour\n",
    "# create day traffic series from 0700 to 1800\n",
    "day_traffic = day_night.between(7, 18)\n",
    "day_traffic = traffic.loc[day_traffic].copy()\n",
    "# create night traffic series from 1900 to 0600\n",
    "night_traffic = day_night.between(19, 24) | day_night.between(0, 6)\n",
    "night_traffic = traffic.loc[night_traffic].copy()\n",
    "# verify\n",
    "print(\"The number of rows and columns for the day and night series.\")\n",
    "display(day_traffic.shape)\n",
    "display(night_traffic.shape)"
   ]
  },
  {
   "cell_type": "code",
   "execution_count": 13,
   "metadata": {
    "scrolled": true
   },
   "outputs": [
    {
     "data": {
      "image/png": "[encoded data removed]",
      "text/plain": [
       "<Figure size 720x504 with 2 Axes>"
      ]
     },
     "metadata": {
      "needs_background": "light"
     },
     "output_type": "display_data"
    }
   ],
   "source": [
    "# create two graphs\n",
    "plt.figure(figsize=(10,7))\n",
    "# daytime traffic volume histogram\n",
    "plt.subplot(2,2,1)\n",
    "day_traffic[\"traffic_volume\"].plot.hist(color=\"#FFCC33\")\n",
    "plt.title(\"Daytime Vehicles per Hour\")\n",
    "plt.xticks([1000,3000,5000,7000], [1000,3000,5000,7000])\n",
    "plt.xlim(0,7500)\n",
    "plt.ylim(0,8000)\n",
    "plt.ylabel(\"\")\n",
    "# nighttime traffic volume histogram\n",
    "plt.subplot(2,2,2)\n",
    "night_traffic[\"traffic_volume\"].plot.hist(color=\"#FFCC33\")\n",
    "plt.title(\"Nighttime Vehicles per Hour\")\n",
    "plt.xticks([1000,3000,5000,7000], [1000,3000,5000,7000])\n",
    "plt.xlim(0,7500)\n",
    "plt.ylim(0,8000)\n",
    "plt.ylabel(\"\")\n",
    "plt.show()"
   ]
  },
  {
   "cell_type": "code",
   "execution_count": 14,
   "metadata": {
    "scrolled": true
   },
   "outputs": [
    {
     "data": {
      "text/html": [
       "<div>\n",
       "<style scoped>\n",
       "    .dataframe tbody tr th:only-of-type {\n",
       "        vertical-align: middle;\n",
       "    }\n",
       "\n",
       "    .dataframe tbody tr th {\n",
       "        vertical-align: top;\n",
       "    }\n",
       "\n",
       "    .dataframe thead th {\n",
       "        text-align: right;\n",
       "    }\n",
       "</style>\n",
       "<table border=\"1\" class=\"dataframe\">\n",
       "  <thead>\n",
       "    <tr style=\"text-align: center;\">\n",
       "      <th></th>\n",
       "      <th>temp</th>\n",
       "      <th>rain_1h</th>\n",
       "      <th>snow_1h</th>\n",
       "      <th>clouds_all</th>\n",
       "      <th>traffic_volume</th>\n",
       "      <th>some_rain</th>\n",
       "      <th>some_snow</th>\n",
       "    </tr>\n",
       "  </thead>\n",
       "  <tbody>\n",
       "    <tr>\n",
       "      <th>count</th>\n",
       "      <td>23,874.0000</td>\n",
       "      <td>23,874.0000</td>\n",
       "      <td>23,874.0000</td>\n",
       "      <td>23,874.0000</td>\n",
       "      <td>23,874.0000</td>\n",
       "      <td>1,770.0000</td>\n",
       "      <td>34.0000</td>\n",
       "    </tr>\n",
       "    <tr>\n",
       "      <th>mean</th>\n",
       "      <td>48.4347</td>\n",
       "      <td>0.1213</td>\n",
       "      <td>0.0003</td>\n",
       "      <td>53.1255</td>\n",
       "      <td>4,762.3038</td>\n",
       "      <td>1.6365</td>\n",
       "      <td>0.1779</td>\n",
       "    </tr>\n",
       "    <tr>\n",
       "      <th>std</th>\n",
       "      <td>23.4823</td>\n",
       "      <td>0.8804</td>\n",
       "      <td>0.0089</td>\n",
       "      <td>37.5635</td>\n",
       "      <td>1,174.1816</td>\n",
       "      <td>2.8249</td>\n",
       "      <td>0.1553</td>\n",
       "    </tr>\n",
       "    <tr>\n",
       "      <th>min</th>\n",
       "      <td>-21.5680</td>\n",
       "      <td>0.0000</td>\n",
       "      <td>0.0000</td>\n",
       "      <td>0.0000</td>\n",
       "      <td>0.0000</td>\n",
       "      <td>0.2500</td>\n",
       "      <td>0.0500</td>\n",
       "    </tr>\n",
       "    <tr>\n",
       "      <th>25%</th>\n",
       "      <td>31.1540</td>\n",
       "      <td>0.0000</td>\n",
       "      <td>0.0000</td>\n",
       "      <td>5.0000</td>\n",
       "      <td>4,253.0000</td>\n",
       "      <td>0.2500</td>\n",
       "      <td>0.0600</td>\n",
       "    </tr>\n",
       "    <tr>\n",
       "      <th>50%</th>\n",
       "      <td>51.1340</td>\n",
       "      <td>0.0000</td>\n",
       "      <td>0.0000</td>\n",
       "      <td>75.0000</td>\n",
       "      <td>4,820.0000</td>\n",
       "      <td>0.6400</td>\n",
       "      <td>0.1000</td>\n",
       "    </tr>\n",
       "    <tr>\n",
       "      <th>75%</th>\n",
       "      <td>68.5220</td>\n",
       "      <td>0.0000</td>\n",
       "      <td>0.0000</td>\n",
       "      <td>90.0000</td>\n",
       "      <td>5,559.0000</td>\n",
       "      <td>1.6900</td>\n",
       "      <td>0.3025</td>\n",
       "    </tr>\n",
       "    <tr>\n",
       "      <th>max</th>\n",
       "      <td>98.4560</td>\n",
       "      <td>44.4500</td>\n",
       "      <td>0.5100</td>\n",
       "      <td>100.0000</td>\n",
       "      <td>7,280.0000</td>\n",
       "      <td>44.4500</td>\n",
       "      <td>0.5100</td>\n",
       "    </tr>\n",
       "  </tbody>\n",
       "</table>\n",
       "</div>"
      ],
      "text/plain": [
       "              temp                rain_1h              snow_1h            clouds_all         traffic_volume          some_rain            some_snow     \n",
       "count          23,874.0000          23,874.0000          23,874.0000          23,874.0000          23,874.0000           1,770.0000              34.0000\n",
       "mean               48.4347               0.1213               0.0003              53.1255           4,762.3038               1.6365               0.1779\n",
       "std                23.4823               0.8804               0.0089              37.5635           1,174.1816               2.8249               0.1553\n",
       "min               -21.5680               0.0000               0.0000               0.0000               0.0000               0.2500               0.0500\n",
       "25%                31.1540               0.0000               0.0000               5.0000           4,253.0000               0.2500               0.0600\n",
       "50%                51.1340               0.0000               0.0000              75.0000           4,820.0000               0.6400               0.1000\n",
       "75%                68.5220               0.0000               0.0000              90.0000           5,559.0000               1.6900               0.3025\n",
       "max                98.4560              44.4500               0.5100             100.0000           7,280.0000              44.4500               0.5100"
      ]
     },
     "metadata": {},
     "output_type": "display_data"
    },
    {
     "data": {
      "text/html": [
       "<div>\n",
       "<style scoped>\n",
       "    .dataframe tbody tr th:only-of-type {\n",
       "        vertical-align: middle;\n",
       "    }\n",
       "\n",
       "    .dataframe tbody tr th {\n",
       "        vertical-align: top;\n",
       "    }\n",
       "\n",
       "    .dataframe thead th {\n",
       "        text-align: right;\n",
       "    }\n",
       "</style>\n",
       "<table border=\"1\" class=\"dataframe\">\n",
       "  <thead>\n",
       "    <tr style=\"text-align: center;\">\n",
       "      <th></th>\n",
       "      <th>temp</th>\n",
       "      <th>rain_1h</th>\n",
       "      <th>snow_1h</th>\n",
       "      <th>clouds_all</th>\n",
       "      <th>traffic_volume</th>\n",
       "      <th>some_rain</th>\n",
       "      <th>some_snow</th>\n",
       "    </tr>\n",
       "  </thead>\n",
       "  <tbody>\n",
       "    <tr>\n",
       "      <th>count</th>\n",
       "      <td>24,319.0000</td>\n",
       "      <td>24,319.0000</td>\n",
       "      <td>24,319.0000</td>\n",
       "      <td>24,319.0000</td>\n",
       "      <td>24,319.0000</td>\n",
       "      <td>1,696.0000</td>\n",
       "      <td>29.0000</td>\n",
       "    </tr>\n",
       "    <tr>\n",
       "      <th>mean</th>\n",
       "      <td>44.8084</td>\n",
       "      <td>0.1392</td>\n",
       "      <td>0.0002</td>\n",
       "      <td>45.6870</td>\n",
       "      <td>1,785.5309</td>\n",
       "      <td>1.9959</td>\n",
       "      <td>0.1610</td>\n",
       "    </tr>\n",
       "    <tr>\n",
       "      <th>std</th>\n",
       "      <td>22.1202</td>\n",
       "      <td>1.1111</td>\n",
       "      <td>0.0074</td>\n",
       "      <td>40.0464</td>\n",
       "      <td>1,441.8681</td>\n",
       "      <td>3.7420</td>\n",
       "      <td>0.1455</td>\n",
       "    </tr>\n",
       "    <tr>\n",
       "      <th>min</th>\n",
       "      <td>-20.0740</td>\n",
       "      <td>0.0000</td>\n",
       "      <td>0.0000</td>\n",
       "      <td>0.0000</td>\n",
       "      <td>0.0000</td>\n",
       "      <td>0.2500</td>\n",
       "      <td>0.0500</td>\n",
       "    </tr>\n",
       "    <tr>\n",
       "      <th>25%</th>\n",
       "      <td>29.4080</td>\n",
       "      <td>0.0000</td>\n",
       "      <td>0.0000</td>\n",
       "      <td>1.0000</td>\n",
       "      <td>530.5000</td>\n",
       "      <td>0.2500</td>\n",
       "      <td>0.0500</td>\n",
       "    </tr>\n",
       "    <tr>\n",
       "      <th>50%</th>\n",
       "      <td>46.8140</td>\n",
       "      <td>0.0000</td>\n",
       "      <td>0.0000</td>\n",
       "      <td>40.0000</td>\n",
       "      <td>1,287.0000</td>\n",
       "      <td>0.6700</td>\n",
       "      <td>0.1000</td>\n",
       "    </tr>\n",
       "    <tr>\n",
       "      <th>75%</th>\n",
       "      <td>63.5900</td>\n",
       "      <td>0.0000</td>\n",
       "      <td>0.0000</td>\n",
       "      <td>90.0000</td>\n",
       "      <td>2,819.0000</td>\n",
       "      <td>1.8500</td>\n",
       "      <td>0.2500</td>\n",
       "    </tr>\n",
       "    <tr>\n",
       "      <th>max</th>\n",
       "      <td>94.1540</td>\n",
       "      <td>55.6300</td>\n",
       "      <td>0.5100</td>\n",
       "      <td>100.0000</td>\n",
       "      <td>6,386.0000</td>\n",
       "      <td>55.6300</td>\n",
       "      <td>0.5100</td>\n",
       "    </tr>\n",
       "  </tbody>\n",
       "</table>\n",
       "</div>"
      ],
      "text/plain": [
       "              temp                rain_1h              snow_1h            clouds_all         traffic_volume          some_rain            some_snow     \n",
       "count          24,319.0000          24,319.0000          24,319.0000          24,319.0000          24,319.0000           1,696.0000              29.0000\n",
       "mean               44.8084               0.1392               0.0002              45.6870           1,785.5309               1.9959               0.1610\n",
       "std                22.1202               1.1111               0.0074              40.0464           1,441.8681               3.7420               0.1455\n",
       "min               -20.0740               0.0000               0.0000               0.0000               0.0000               0.2500               0.0500\n",
       "25%                29.4080               0.0000               0.0000               1.0000             530.5000               0.2500               0.0500\n",
       "50%                46.8140               0.0000               0.0000              40.0000           1,287.0000               0.6700               0.1000\n",
       "75%                63.5900               0.0000               0.0000              90.0000           2,819.0000               1.8500               0.2500\n",
       "max                94.1540              55.6300               0.5100             100.0000           6,386.0000              55.6300               0.5100"
      ]
     },
     "metadata": {},
     "output_type": "display_data"
    }
   ],
   "source": [
    "# basic daytime and nighttime stats\n",
    "display(day_traffic.describe())\n",
    "display(night_traffic.describe())"
   ]
  },
  {
   "cell_type": "markdown",
   "metadata": {},
   "source": [
    "## Daytime Group\n",
    "* Looking at daytime values initially will provide most of the analysis.\n",
    "* The mean traffic volume by month is not that far off the mean traffic volume for all day entries, 4762. The standard deviation between the months is only 190. The graph does show two dips, with one corresponding to winter months in the US. The other looks like it occurs during July, which is unusual because that's during the summer when traffic tends to be high.\n",
    "    * A closer look at the annual distribution for the month of July shows an atypical decrease in 2016. A quick google search points to a large highway construction project taking place that year. https://www.mprnews.org/story/2016/07/22/i94-stpaul-shutdown-twin-cities-weekend-road-woes\n",
    "* The mean daytime traffic volume does change considerably depending on the day of the week. Saturday shows a considerable dip and Sunday a little more. But there are still plenty of cars making the drive!\n",
    "* Looking at the traffic volume for weekdays by hour indicates a peak in the morning (by 7:00 am if not earlier) and again in the afternoon at 4:00 pm.\n",
    "* A similar look at weekend hours shows a slow build in the morning with fairly steady traffic until evening."
   ]
  },
  {
   "cell_type": "code",
   "execution_count": 15,
   "metadata": {
    "scrolled": false
   },
   "outputs": [
    {
     "data": {
      "text/plain": [
       "count                12.0000\n",
       "mean              4,767.5037\n",
       "std                 189.9449\n",
       "min               4,374.8346\n",
       "25%               4,676.7308\n",
       "50%               4,880.0964\n",
       "75%               4,907.9511\n",
       "max               4,928.3020\n",
       "Name: traffic_volume, dtype: float64"
      ]
     },
     "metadata": {},
     "output_type": "display_data"
    },
    {
     "data": {
      "image/png": "[encoded data removed]",
      "text/plain": [
       "<Figure size 432x288 with 1 Axes>"
      ]
     },
     "metadata": {
      "needs_background": "light"
     },
     "output_type": "display_data"
    }
   ],
   "source": [
    "# create month column and convert info in date_time column to months 1-12\n",
    "day_traffic[\"month\"] = day_traffic[\"date_time\"].dt.month\n",
    "# group daytime by month and get the mean column values for each month\n",
    "day_traffic_month_group = day_traffic.groupby(\"month\").mean()\n",
    "# basic stats for daytime month group mean traffic volume\n",
    "display(day_traffic_month_group[\"traffic_volume\"].describe())\n",
    "# line plot of daytime month group mean traffic volumes\n",
    "day_traffic_month_group[\"traffic_volume\"].plot.line(c=\"#7A0019\")\n",
    "plt.title(\"Daytime Mean Traffic Volume by Month\")\n",
    "plt.yticks([4400,4600,4800], [4400,4600,4800])\n",
    "plt.xlabel(\"\")\n",
    "plt.xticks([1,2,3,4,5,6,7,8,9,10,11,12],[\"Jan\",\"Feb\",\"Mar\",\"Apr\",\"May\",\"Jun\",\n",
    "                                         \"Jul\",\"Aug\",\"Sep\",\"Oct\",\"Nov\",\"Dec\"])\n",
    "plt.show()"
   ]
  },
  {
   "cell_type": "code",
   "execution_count": 16,
   "metadata": {},
   "outputs": [
    {
     "data": {
      "image/png": "[encoded data removed]",
      "text/plain": [
       "<Figure size 432x288 with 1 Axes>"
      ]
     },
     "metadata": {
      "needs_background": "light"
     },
     "output_type": "display_data"
    }
   ],
   "source": [
    "# group July by year\n",
    "july_months = traffic[traffic[\"date_time\"].dt.month == 7]\n",
    "july_yearly_group = july_months.groupby(traffic[\"date_time\"].dt.year)\n",
    "# line plot of July yearly group mean traffic volume\n",
    "july_yearly_group[\"traffic_volume\"].mean().plot.line(c=\"#7A0019\")\n",
    "plt.title(\"July Mean Traffic Volume by Year\")\n",
    "plt.xlabel(\"\")\n",
    "plt.show()"
   ]
  },
  {
   "cell_type": "code",
   "execution_count": 17,
   "metadata": {
    "scrolled": false
   },
   "outputs": [
    {
     "data": {
      "image/png": "[encoded data removed]",
      "text/plain": [
       "<Figure size 432x288 with 1 Axes>"
      ]
     },
     "metadata": {
      "needs_background": "light"
     },
     "output_type": "display_data"
    }
   ],
   "source": [
    "# create day_of_week column and convert info in date_time column to days 0-6\n",
    "day_traffic[\"day_of_week\"] = day_traffic[\"date_time\"].dt.dayofweek\n",
    "# group daytime by day of week and get the mean column values for each day\n",
    "day_traffic_day_group = day_traffic.groupby(\"day_of_week\").mean()\n",
    "# line plot of daytime week of day group mean traffic volumes\n",
    "day_traffic_day_group[\"traffic_volume\"].plot.line(c=\"#7A0019\")\n",
    "plt.title(\"Daytime Mean Traffic Volume by Day\")\n",
    "plt.yticks([3500,4000,4500,5000],[3500,4000,4500,5000])\n",
    "plt.xlabel(\"\")\n",
    "plt.xticks([0,1,2,3,4,5,6],[\"Mon\",\"Tue\",\"Wed\",\"Thur\",\"Fri\",\"Sat\",\"Sun\"])\n",
    "plt.show()"
   ]
  },
  {
   "cell_type": "code",
   "execution_count": 18,
   "metadata": {},
   "outputs": [
    {
     "data": {
      "image/png": "[encoded data removed]",
      "text/plain": [
       "<Figure size 720x432 with 2 Axes>"
      ]
     },
     "metadata": {
      "needs_background": "light"
     },
     "output_type": "display_data"
    }
   ],
   "source": [
    "# create an hour column and convert info in date_time column to hours 0 to 23\n",
    "day_traffic[\"hour\"] = day_traffic[\"date_time\"].dt.hour\n",
    "# group daytime into weekdays (4=Friday) and weekends (5=Saturday)\n",
    "weekdays = day_traffic[day_traffic[\"day_of_week\"] <= 4]\n",
    "weekends = day_traffic[day_traffic[\"day_of_week\"] >= 5]\n",
    "# group weekday entries by hour and get the mean column values for each hour\n",
    "weekdays_hours_group = weekdays.groupby(\"hour\").mean()\n",
    "# group weekend entries by hour and get the mean column values for each hour\n",
    "weekends_hours_group = weekends.groupby(\"hour\").mean()\n",
    "# basic stats for daytime weekday hour group mean traffic volume\n",
    "# display(weekdays_hours_group[\"traffic_volume\"].describe())\n",
    "# create two graphs\n",
    "plt.figure(figsize=(10,6))\n",
    "# line plot of weekdays hours group mean traffic volumes \n",
    "plt.subplot(2,2,1)\n",
    "weekdays_hours_group[\"traffic_volume\"].plot.line(c=\"#7A0019\")\n",
    "plt.title(\"Weekday Traffic Volume by Hour\")\n",
    "plt.ylim(0,6500)\n",
    "# line plot of weekends hours group mean traffic volumes\n",
    "plt.subplot(2,2,2)\n",
    "weekends_hours_group[\"traffic_volume\"].plot.line(c=\"#7A0019\")\n",
    "plt.title(\"Weekend Traffic Volulme by Hour\")\n",
    "plt.ylim(0,6500)\n",
    "plt.show()"
   ]
  },
  {
   "cell_type": "markdown",
   "metadata": {},
   "source": [
    "## Nightime Group"
   ]
  },
  {
   "cell_type": "code",
   "execution_count": 19,
   "metadata": {},
   "outputs": [
    {
     "data": {
      "image/png": "[encoded data removed]",
      "text/plain": [
       "<Figure size 432x288 with 1 Axes>"
      ]
     },
     "metadata": {
      "needs_background": "light"
     },
     "output_type": "display_data"
    }
   ],
   "source": [
    "# line plot for nighttime traffic vollume by hour\n",
    "night_traffic[\"hour\"] = night_traffic[\"date_time\"].dt.hour\n",
    "nighttime_hours_group = night_traffic.groupby(\"hour\").mean()\n",
    "nighttime_hours_group[\"traffic_volume\"].plot.bar(color=\"#FFCC33\")\n",
    "plt.ylim(0,6000)\n",
    "plt.title(\"Nightime Mean Traffic Volume by Hour\")\n",
    "plt.xlabel(\"\")\n",
    "plt.show()"
   ]
  },
  {
   "cell_type": "markdown",
   "metadata": {},
   "source": [
    "## Weather\n",
    "### Part 1\n",
    "There are small correlations between daytime traffic volume and measurable amounts of snow and rain. Neither of these associations would be obvious though.\n",
    "* The snow correlation is probably just an artifact due to the low sample number.\n",
    "* The subtle relationship between rain and traffic volume appears from the scatter chart to be less causation than simple correlation. It is likely that there are simply a fair number of rainy days in this area."
   ]
  },
  {
   "cell_type": "code",
   "execution_count": 20,
   "metadata": {},
   "outputs": [
    {
     "data": {
      "text/html": [
       "<div>\n",
       "<style scoped>\n",
       "    .dataframe tbody tr th:only-of-type {\n",
       "        vertical-align: middle;\n",
       "    }\n",
       "\n",
       "    .dataframe tbody tr th {\n",
       "        vertical-align: top;\n",
       "    }\n",
       "\n",
       "    .dataframe thead th {\n",
       "        text-align: right;\n",
       "    }\n",
       "</style>\n",
       "<table border=\"1\" class=\"dataframe\">\n",
       "  <thead>\n",
       "    <tr style=\"text-align: center;\">\n",
       "      <th></th>\n",
       "      <th>temp</th>\n",
       "      <th>rain_1h</th>\n",
       "      <th>snow_1h</th>\n",
       "      <th>clouds_all</th>\n",
       "      <th>traffic_volume</th>\n",
       "      <th>some_rain</th>\n",
       "      <th>some_snow</th>\n",
       "      <th>month</th>\n",
       "      <th>day_of_week</th>\n",
       "      <th>hour</th>\n",
       "    </tr>\n",
       "  </thead>\n",
       "  <tbody>\n",
       "    <tr>\n",
       "      <th>temp</th>\n",
       "      <td>1.0000</td>\n",
       "      <td>0.0849</td>\n",
       "      <td>-0.0197</td>\n",
       "      <td>-0.1408</td>\n",
       "      <td>0.1255</td>\n",
       "      <td>0.2065</td>\n",
       "      <td>0.5590</td>\n",
       "      <td>0.2240</td>\n",
       "      <td>0.0030</td>\n",
       "      <td>0.1632</td>\n",
       "    </tr>\n",
       "    <tr>\n",
       "      <th>rain_1h</th>\n",
       "      <td>0.0849</td>\n",
       "      <td>1.0000</td>\n",
       "      <td>0.0068</td>\n",
       "      <td>0.0885</td>\n",
       "      <td>-0.0407</td>\n",
       "      <td>1.0000</td>\n",
       "      <td>0.7923</td>\n",
       "      <td>0.0194</td>\n",
       "      <td>-0.0047</td>\n",
       "      <td>-0.0168</td>\n",
       "    </tr>\n",
       "    <tr>\n",
       "      <th>snow_1h</th>\n",
       "      <td>-0.0197</td>\n",
       "      <td>0.0068</td>\n",
       "      <td>1.0000</td>\n",
       "      <td>0.0277</td>\n",
       "      <td>0.0013</td>\n",
       "      <td>-0.0111</td>\n",
       "      <td>1.0000</td>\n",
       "      <td>0.0268</td>\n",
       "      <td>-0.0088</td>\n",
       "      <td>0.0039</td>\n",
       "    </tr>\n",
       "    <tr>\n",
       "      <th>clouds_all</th>\n",
       "      <td>-0.1408</td>\n",
       "      <td>0.0885</td>\n",
       "      <td>0.0277</td>\n",
       "      <td>1.0000</td>\n",
       "      <td>-0.0333</td>\n",
       "      <td>0.0850</td>\n",
       "      <td>0.1273</td>\n",
       "      <td>0.0004</td>\n",
       "      <td>-0.0418</td>\n",
       "      <td>0.0235</td>\n",
       "    </tr>\n",
       "    <tr>\n",
       "      <th>traffic_volume</th>\n",
       "      <td>0.1255</td>\n",
       "      <td>-0.0407</td>\n",
       "      <td>0.0013</td>\n",
       "      <td>-0.0333</td>\n",
       "      <td>1.0000</td>\n",
       "      <td>-0.1723</td>\n",
       "      <td>0.4014</td>\n",
       "      <td>-0.0227</td>\n",
       "      <td>-0.4163</td>\n",
       "      <td>0.1724</td>\n",
       "    </tr>\n",
       "    <tr>\n",
       "      <th>some_rain</th>\n",
       "      <td>0.2065</td>\n",
       "      <td>1.0000</td>\n",
       "      <td>-0.0111</td>\n",
       "      <td>0.0850</td>\n",
       "      <td>-0.1723</td>\n",
       "      <td>1.0000</td>\n",
       "      <td>NaN</td>\n",
       "      <td>0.0084</td>\n",
       "      <td>0.0343</td>\n",
       "      <td>-0.0429</td>\n",
       "    </tr>\n",
       "    <tr>\n",
       "      <th>some_snow</th>\n",
       "      <td>0.5590</td>\n",
       "      <td>0.7923</td>\n",
       "      <td>1.0000</td>\n",
       "      <td>0.1273</td>\n",
       "      <td>0.4014</td>\n",
       "      <td>NaN</td>\n",
       "      <td>1.0000</td>\n",
       "      <td>0.2191</td>\n",
       "      <td>0.0110</td>\n",
       "      <td>0.0840</td>\n",
       "    </tr>\n",
       "    <tr>\n",
       "      <th>month</th>\n",
       "      <td>0.2240</td>\n",
       "      <td>0.0194</td>\n",
       "      <td>0.0268</td>\n",
       "      <td>0.0004</td>\n",
       "      <td>-0.0227</td>\n",
       "      <td>0.0084</td>\n",
       "      <td>0.2191</td>\n",
       "      <td>1.0000</td>\n",
       "      <td>0.0138</td>\n",
       "      <td>0.0080</td>\n",
       "    </tr>\n",
       "    <tr>\n",
       "      <th>day_of_week</th>\n",
       "      <td>0.0030</td>\n",
       "      <td>-0.0047</td>\n",
       "      <td>-0.0088</td>\n",
       "      <td>-0.0418</td>\n",
       "      <td>-0.4163</td>\n",
       "      <td>0.0343</td>\n",
       "      <td>0.0110</td>\n",
       "      <td>0.0138</td>\n",
       "      <td>1.0000</td>\n",
       "      <td>-0.0025</td>\n",
       "    </tr>\n",
       "    <tr>\n",
       "      <th>hour</th>\n",
       "      <td>0.1632</td>\n",
       "      <td>-0.0168</td>\n",
       "      <td>0.0039</td>\n",
       "      <td>0.0235</td>\n",
       "      <td>0.1724</td>\n",
       "      <td>-0.0429</td>\n",
       "      <td>0.0840</td>\n",
       "      <td>0.0080</td>\n",
       "      <td>-0.0025</td>\n",
       "      <td>1.0000</td>\n",
       "    </tr>\n",
       "  </tbody>\n",
       "</table>\n",
       "</div>"
      ],
      "text/plain": [
       "                       temp                rain_1h              snow_1h            clouds_all         traffic_volume          some_rain            some_snow              month             day_of_week             hour        \n",
       "temp                         1.0000               0.0849              -0.0197              -0.1408               0.1255               0.2065               0.5590               0.2240               0.0030               0.1632\n",
       "rain_1h                      0.0849               1.0000               0.0068               0.0885              -0.0407               1.0000               0.7923               0.0194              -0.0047              -0.0168\n",
       "snow_1h                     -0.0197               0.0068               1.0000               0.0277               0.0013              -0.0111               1.0000               0.0268              -0.0088               0.0039\n",
       "clouds_all                  -0.1408               0.0885               0.0277               1.0000              -0.0333               0.0850               0.1273               0.0004              -0.0418               0.0235\n",
       "traffic_volume               0.1255              -0.0407               0.0013              -0.0333               1.0000              -0.1723               0.4014              -0.0227              -0.4163               0.1724\n",
       "some_rain                    0.2065               1.0000              -0.0111               0.0850              -0.1723               1.0000                  NaN               0.0084               0.0343              -0.0429\n",
       "some_snow                    0.5590               0.7923               1.0000               0.1273               0.4014                  NaN               1.0000               0.2191               0.0110               0.0840\n",
       "month                        0.2240               0.0194               0.0268               0.0004              -0.0227               0.0084               0.2191               1.0000               0.0138               0.0080\n",
       "day_of_week                  0.0030              -0.0047              -0.0088              -0.0418              -0.4163               0.0343               0.0110               0.0138               1.0000              -0.0025\n",
       "hour                         0.1632              -0.0168               0.0039               0.0235               0.1724              -0.0429               0.0840               0.0080              -0.0025               1.0000"
      ]
     },
     "execution_count": 20,
     "metadata": {},
     "output_type": "execute_result"
    }
   ],
   "source": [
    "# Pearson correlation coefficient for all daytime columns\n",
    "day_traffic.corr()"
   ]
  },
  {
   "cell_type": "code",
   "execution_count": 21,
   "metadata": {},
   "outputs": [
    {
     "data": {
      "image/png": "[encoded data removed]",
      "text/plain": [
       "<Figure size 432x288 with 1 Axes>"
      ]
     },
     "metadata": {
      "needs_background": "light"
     },
     "output_type": "display_data"
    }
   ],
   "source": [
    "# scatter plot for daytime traffic volume and some snow\n",
    "plt.scatter(day_traffic[\"traffic_volume\"],day_traffic[\"some_snow\"],c=\"#FFCC33\")\n",
    "plt.title(\"Traffic Volume and Snow\")\n",
    "plt.xlabel(\"Vehicles per Hour\")\n",
    "plt.ylabel(\"Snow in mm per Hour\")\n",
    "plt.show()"
   ]
  },
  {
   "cell_type": "code",
   "execution_count": 22,
   "metadata": {
    "scrolled": true
   },
   "outputs": [
    {
     "data": {
      "image/png": "[encoded data removed]",
      "text/plain": [
       "<Figure size 432x288 with 1 Axes>"
      ]
     },
     "metadata": {
      "needs_background": "light"
     },
     "output_type": "display_data"
    }
   ],
   "source": [
    "# scatter plot for daytime traffic volume and some rain\n",
    "plt.scatter(day_traffic[\"traffic_volume\"], day_traffic[\"some_rain\"],c=\"#FFCC33\")\n",
    "plt.title(\"Traffic and Rain\")\n",
    "plt.xlabel(\"Vehicles per Hour\")\n",
    "plt.ylabel(\"Rain in mm per Hour\")\n",
    "plt.show()"
   ]
  },
  {
   "cell_type": "markdown",
   "metadata": {},
   "source": [
    "## Weather\n",
    "### Part 2\n",
    "* Grouping daytime traffic by the categorical options in the ```weather_main``` column provides an interesting graph but no real insight. The traffic volume seems to be fairly similar across the group.\n",
    "* Grouping daytime traffic by the categorical options in the ```weather_description``` doesn't reveal any surprises either. The highest traffic volumes were on days with snow, so maybe we can conclude the Minnesotans are pretty resilient to bad weather!"
   ]
  },
  {
   "cell_type": "code",
   "execution_count": 23,
   "metadata": {},
   "outputs": [],
   "source": [
    "# group day traffic by weather main and weather description\n",
    "weather_main = day_traffic.groupby(\"weather_main\").mean()\n",
    "weather_description = day_traffic.groupby(\"weather_description\").mean()"
   ]
  },
  {
   "cell_type": "code",
   "execution_count": 24,
   "metadata": {},
   "outputs": [
    {
     "data": {
      "image/png": "[encoded data removed]",
      "text/plain": [
       "<Figure size 432x288 with 1 Axes>"
      ]
     },
     "metadata": {
      "needs_background": "light"
     },
     "output_type": "display_data"
    }
   ],
   "source": [
    "# bar chart for weather main\n",
    "weather_main[\"traffic_volume\"].plot.barh(color=\"#FFCC33\")\n",
    "plt.xticks([1000,3000,5000], [1000,3000,5000])\n",
    "plt.ylabel(\"\")\n",
    "plt.title(\"Weather and Daytime Traffic Volume\")\n",
    "plt.show()"
   ]
  },
  {
   "cell_type": "code",
   "execution_count": 25,
   "metadata": {},
   "outputs": [
    {
     "data": {
      "image/png": "[encoded data removed]",
      "text/plain": [
       "<Figure size 360x720 with 1 Axes>"
      ]
     },
     "metadata": {
      "needs_background": "light"
     },
     "output_type": "display_data"
    }
   ],
   "source": [
    "# bar chart for weather description\n",
    "weather_description[\"traffic_volume\"].plot.barh(figsize=(5,10), color=\"#FFCC33\")\n",
    "plt.xticks([1000,3000,5000], [1000,3000,5000])\n",
    "plt.ylabel(\"\")\n",
    "plt.title(\"Weather and Daytime Traffic Volume\")\n",
    "plt.show()"
   ]
  },
  {
   "cell_type": "markdown",
   "metadata": {},
   "source": [
    "## Conclusion\n",
    "\n",
    "* It's a pretty safe bet that if it's a weekday, especially during rush hour that your going to see a lot of traffic on I-94. On the weekends there is less traffic, and in the evenings even less.\n",
    "* There is also a decrease in traffic volume the winter months.\n",
    "* Looking at weather conditions showed no reliable correlations. Even clear skies did not show a relationship with high traffic volumes.\n",
    "* Nighttime traffic volumes are heavily influenced by hour. Traffic increases dramatically at 5:00 am and 6:00 am, then tapers off after 7:00 pm.\n",
    "* It is notable that using mean values makes it difficult to be aware of larger values. Because traffic is such a consequential and daily factor for so many entities, it might be worth reducing the sample to a smaller set of high traffic volume rows.\n",
    "* Lastly, because this data set has a large amount of granular weather information, comparing similar hours with good weather and bad weather could be informative."
   ]
  }
 ],
 "metadata": {
  "kernelspec": {
   "display_name": "Python 3 (ipykernel)",
   "language": "python",
   "name": "python3"
  },
  "language_info": {
   "codemirror_mode": {
    "name": "ipython",
    "version": 3
   },
   "file_extension": ".py",
   "mimetype": "text/x-python",
   "name": "python",
   "nbconvert_exporter": "python",
   "pygments_lexer": "ipython3",
   "version": "3.8.5"
  }
 },
 "nbformat": 4,
 "nbformat_minor": 4
}
