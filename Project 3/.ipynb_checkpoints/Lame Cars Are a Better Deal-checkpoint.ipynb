{
 "cells": [
  {
   "cell_type": "markdown",
   "metadata": {},
   "source": [
    "# Lame Cars Are a Better Deal #"
   ]
  },
  {
   "cell_type": "markdown",
   "metadata": {},
   "source": [
    "## Introduction\n",
    "\n",
    "In 2019 the global used car market was estimated to be a whopping 1332 billion US dollars (1). This was prior to the ubiquitous supply chain disruptions that are now part of our daily lives and the expectations of a 13% to 32% decline in global trade (2)(3). The turnover in used car inventory for August and September was the highest in six years (4). One large sector of used car sales comes from the eBay Vehicle Market. They have over 7.4 million users per month. A car or truck is sold every 3 minutes (5). That's of lot of interactions!\n",
    "\n",
    "The main conclusion of this study is unpopular cars might be a better deal when using mileage as a metric. For the money spent they have lower mileage.\n",
    "\n",
    "Let's take a quick look at a selection of 50,000 rows from a dataset created in 2015 for the German eBay marketplace, eBay Kleinanzeigen. The original data set can be found here.\n",
    "https://data.world/data-society/used-cars-data\n",
    "\n",
    "Citations\n",
    "1. Grand View Research. Used Car Market Size, Share & Trends Analysis Report By Vehicle Type (Hybrid, Conventional, Electric), By Vendor Type, By Fuel Type, By Size, By Region, By Sales Channel, And Segment Forecasts, 2020 - 2027. Sept 2020.\n",
    "https://www.grandviewresearch.com/industry-analysis/used-car-market\n",
    "2. Li, X., Ghadami, A., Drake, J.M. et al. Mathematical model of the feedback between global supply chain disruption and COVID-19 dynamics. Sci Rep 11, 15450 (2021).\n",
    "https://doi.org/10.1038/s41598-021-94619-1\n",
    "3. World Trade Organization. Trade set to plunge as COVID-19 pandemic upends global economy. April 2020.\n",
    "https://www.wto.org/english/news_e/pres20_e/pr855_e.htm\n",
    "4. Eric Rosenbaum. The used car boom is one of the hottest, and trickiest, coronavirus markets for consumers. CNBC October 2020.\n",
    "https://www.cnbc.com/2020/10/15/used-car-boom-is-one-of-hottest-coronavirus-markets-for-consumers.html\n",
    "5. Welcome to the eBay Vehicle Seller Center. eBay. Sept 2021.\n",
    "https://pages.ebay.com/sellerinformation/vehiclesellercenter.html"
   ]
  },
  {
   "cell_type": "markdown",
   "metadata": {},
   "source": [
    "## Open and Examine Data Set\n",
    "* An initial look at the data set shows 50,000 entries with 20 columns of information.\n",
    "* Five of the columns are missing entries and in some the data needs to be converted to the correct type.\n",
    "* Some of the entries are in German and need to be translated."
   ]
  },
  {
   "cell_type": "code",
   "execution_count": 1,
   "metadata": {},
   "outputs": [
    {
     "name": "stdout",
     "output_type": "stream",
     "text": [
      "<class 'pandas.core.frame.DataFrame'>\n",
      "RangeIndex: 50000 entries, 0 to 49999\n",
      "Data columns (total 20 columns):\n",
      " #   Column               Non-Null Count  Dtype \n",
      "---  ------               --------------  ----- \n",
      " 0   dateCrawled          50000 non-null  object\n",
      " 1   name                 50000 non-null  object\n",
      " 2   seller               50000 non-null  object\n",
      " 3   offerType            50000 non-null  object\n",
      " 4   price                50000 non-null  object\n",
      " 5   abtest               50000 non-null  object\n",
      " 6   vehicleType          44905 non-null  object\n",
      " 7   yearOfRegistration   50000 non-null  int64 \n",
      " 8   gearbox              47320 non-null  object\n",
      " 9   powerPS              50000 non-null  int64 \n",
      " 10  model                47242 non-null  object\n",
      " 11  odometer             50000 non-null  object\n",
      " 12  monthOfRegistration  50000 non-null  int64 \n",
      " 13  fuelType             45518 non-null  object\n",
      " 14  brand                50000 non-null  object\n",
      " 15  notRepairedDamage    40171 non-null  object\n",
      " 16  dateCreated          50000 non-null  object\n",
      " 17  nrOfPictures         50000 non-null  int64 \n",
      " 18  postalCode           50000 non-null  int64 \n",
      " 19  lastSeen             50000 non-null  object\n",
      "dtypes: int64(5), object(15)\n",
      "memory usage: 7.6+ MB\n"
     ]
    }
   ],
   "source": [
    "# import libraries and read csv\n",
    "import emoji\n",
    "import pandas as pd\n",
    "import numpy as np\n",
    "import pandas as pd\n",
    "import matplotlib.pyplot as plt\n",
    "import seaborn as sns\n",
    "import pprint\n",
    "autos = pd.read_csv(\"autos.csv\", encoding=\"Latin-1\")\n",
    "# get info about dataset\n",
    "autos.info()"
   ]
  },
  {
   "cell_type": "code",
   "execution_count": 2,
   "metadata": {},
   "outputs": [
    {
     "data": {
      "text/html": [
       "<div>\n",
       "<style scoped>\n",
       "    .dataframe tbody tr th:only-of-type {\n",
       "        vertical-align: middle;\n",
       "    }\n",
       "\n",
       "    .dataframe tbody tr th {\n",
       "        vertical-align: top;\n",
       "    }\n",
       "\n",
       "    .dataframe thead th {\n",
       "        text-align: right;\n",
       "    }\n",
       "</style>\n",
       "<table border=\"1\" class=\"dataframe\">\n",
       "  <thead>\n",
       "    <tr style=\"text-align: right;\">\n",
       "      <th></th>\n",
       "      <th>dateCrawled</th>\n",
       "      <th>name</th>\n",
       "      <th>seller</th>\n",
       "      <th>offerType</th>\n",
       "      <th>price</th>\n",
       "      <th>abtest</th>\n",
       "      <th>vehicleType</th>\n",
       "      <th>yearOfRegistration</th>\n",
       "      <th>gearbox</th>\n",
       "      <th>powerPS</th>\n",
       "      <th>model</th>\n",
       "      <th>odometer</th>\n",
       "      <th>monthOfRegistration</th>\n",
       "      <th>fuelType</th>\n",
       "      <th>brand</th>\n",
       "      <th>notRepairedDamage</th>\n",
       "      <th>dateCreated</th>\n",
       "      <th>nrOfPictures</th>\n",
       "      <th>postalCode</th>\n",
       "      <th>lastSeen</th>\n",
       "    </tr>\n",
       "  </thead>\n",
       "  <tbody>\n",
       "    <tr>\n",
       "      <th>count</th>\n",
       "      <td>50000</td>\n",
       "      <td>50000</td>\n",
       "      <td>50000</td>\n",
       "      <td>50000</td>\n",
       "      <td>50000</td>\n",
       "      <td>50000</td>\n",
       "      <td>44905</td>\n",
       "      <td>50000.000000</td>\n",
       "      <td>47320</td>\n",
       "      <td>50000.000000</td>\n",
       "      <td>47242</td>\n",
       "      <td>50000</td>\n",
       "      <td>50000.000000</td>\n",
       "      <td>45518</td>\n",
       "      <td>50000</td>\n",
       "      <td>40171</td>\n",
       "      <td>50000</td>\n",
       "      <td>50000.0</td>\n",
       "      <td>50000.000000</td>\n",
       "      <td>50000</td>\n",
       "    </tr>\n",
       "    <tr>\n",
       "      <th>unique</th>\n",
       "      <td>48213</td>\n",
       "      <td>38754</td>\n",
       "      <td>2</td>\n",
       "      <td>2</td>\n",
       "      <td>2357</td>\n",
       "      <td>2</td>\n",
       "      <td>8</td>\n",
       "      <td>NaN</td>\n",
       "      <td>2</td>\n",
       "      <td>NaN</td>\n",
       "      <td>245</td>\n",
       "      <td>13</td>\n",
       "      <td>NaN</td>\n",
       "      <td>7</td>\n",
       "      <td>40</td>\n",
       "      <td>2</td>\n",
       "      <td>76</td>\n",
       "      <td>NaN</td>\n",
       "      <td>NaN</td>\n",
       "      <td>39481</td>\n",
       "    </tr>\n",
       "    <tr>\n",
       "      <th>top</th>\n",
       "      <td>2016-03-23 19:38:20</td>\n",
       "      <td>Ford_Fiesta</td>\n",
       "      <td>privat</td>\n",
       "      <td>Angebot</td>\n",
       "      <td>$0</td>\n",
       "      <td>test</td>\n",
       "      <td>limousine</td>\n",
       "      <td>NaN</td>\n",
       "      <td>manuell</td>\n",
       "      <td>NaN</td>\n",
       "      <td>golf</td>\n",
       "      <td>150,000km</td>\n",
       "      <td>NaN</td>\n",
       "      <td>benzin</td>\n",
       "      <td>volkswagen</td>\n",
       "      <td>nein</td>\n",
       "      <td>2016-04-03 00:00:00</td>\n",
       "      <td>NaN</td>\n",
       "      <td>NaN</td>\n",
       "      <td>2016-04-07 06:17:27</td>\n",
       "    </tr>\n",
       "    <tr>\n",
       "      <th>freq</th>\n",
       "      <td>3</td>\n",
       "      <td>78</td>\n",
       "      <td>49999</td>\n",
       "      <td>49999</td>\n",
       "      <td>1421</td>\n",
       "      <td>25756</td>\n",
       "      <td>12859</td>\n",
       "      <td>NaN</td>\n",
       "      <td>36993</td>\n",
       "      <td>NaN</td>\n",
       "      <td>4024</td>\n",
       "      <td>32424</td>\n",
       "      <td>NaN</td>\n",
       "      <td>30107</td>\n",
       "      <td>10687</td>\n",
       "      <td>35232</td>\n",
       "      <td>1946</td>\n",
       "      <td>NaN</td>\n",
       "      <td>NaN</td>\n",
       "      <td>8</td>\n",
       "    </tr>\n",
       "    <tr>\n",
       "      <th>mean</th>\n",
       "      <td>NaN</td>\n",
       "      <td>NaN</td>\n",
       "      <td>NaN</td>\n",
       "      <td>NaN</td>\n",
       "      <td>NaN</td>\n",
       "      <td>NaN</td>\n",
       "      <td>NaN</td>\n",
       "      <td>2005.073280</td>\n",
       "      <td>NaN</td>\n",
       "      <td>116.355920</td>\n",
       "      <td>NaN</td>\n",
       "      <td>NaN</td>\n",
       "      <td>5.723360</td>\n",
       "      <td>NaN</td>\n",
       "      <td>NaN</td>\n",
       "      <td>NaN</td>\n",
       "      <td>NaN</td>\n",
       "      <td>0.0</td>\n",
       "      <td>50813.627300</td>\n",
       "      <td>NaN</td>\n",
       "    </tr>\n",
       "    <tr>\n",
       "      <th>std</th>\n",
       "      <td>NaN</td>\n",
       "      <td>NaN</td>\n",
       "      <td>NaN</td>\n",
       "      <td>NaN</td>\n",
       "      <td>NaN</td>\n",
       "      <td>NaN</td>\n",
       "      <td>NaN</td>\n",
       "      <td>105.712813</td>\n",
       "      <td>NaN</td>\n",
       "      <td>209.216627</td>\n",
       "      <td>NaN</td>\n",
       "      <td>NaN</td>\n",
       "      <td>3.711984</td>\n",
       "      <td>NaN</td>\n",
       "      <td>NaN</td>\n",
       "      <td>NaN</td>\n",
       "      <td>NaN</td>\n",
       "      <td>0.0</td>\n",
       "      <td>25779.747957</td>\n",
       "      <td>NaN</td>\n",
       "    </tr>\n",
       "    <tr>\n",
       "      <th>min</th>\n",
       "      <td>NaN</td>\n",
       "      <td>NaN</td>\n",
       "      <td>NaN</td>\n",
       "      <td>NaN</td>\n",
       "      <td>NaN</td>\n",
       "      <td>NaN</td>\n",
       "      <td>NaN</td>\n",
       "      <td>1000.000000</td>\n",
       "      <td>NaN</td>\n",
       "      <td>0.000000</td>\n",
       "      <td>NaN</td>\n",
       "      <td>NaN</td>\n",
       "      <td>0.000000</td>\n",
       "      <td>NaN</td>\n",
       "      <td>NaN</td>\n",
       "      <td>NaN</td>\n",
       "      <td>NaN</td>\n",
       "      <td>0.0</td>\n",
       "      <td>1067.000000</td>\n",
       "      <td>NaN</td>\n",
       "    </tr>\n",
       "    <tr>\n",
       "      <th>25%</th>\n",
       "      <td>NaN</td>\n",
       "      <td>NaN</td>\n",
       "      <td>NaN</td>\n",
       "      <td>NaN</td>\n",
       "      <td>NaN</td>\n",
       "      <td>NaN</td>\n",
       "      <td>NaN</td>\n",
       "      <td>1999.000000</td>\n",
       "      <td>NaN</td>\n",
       "      <td>70.000000</td>\n",
       "      <td>NaN</td>\n",
       "      <td>NaN</td>\n",
       "      <td>3.000000</td>\n",
       "      <td>NaN</td>\n",
       "      <td>NaN</td>\n",
       "      <td>NaN</td>\n",
       "      <td>NaN</td>\n",
       "      <td>0.0</td>\n",
       "      <td>30451.000000</td>\n",
       "      <td>NaN</td>\n",
       "    </tr>\n",
       "    <tr>\n",
       "      <th>50%</th>\n",
       "      <td>NaN</td>\n",
       "      <td>NaN</td>\n",
       "      <td>NaN</td>\n",
       "      <td>NaN</td>\n",
       "      <td>NaN</td>\n",
       "      <td>NaN</td>\n",
       "      <td>NaN</td>\n",
       "      <td>2003.000000</td>\n",
       "      <td>NaN</td>\n",
       "      <td>105.000000</td>\n",
       "      <td>NaN</td>\n",
       "      <td>NaN</td>\n",
       "      <td>6.000000</td>\n",
       "      <td>NaN</td>\n",
       "      <td>NaN</td>\n",
       "      <td>NaN</td>\n",
       "      <td>NaN</td>\n",
       "      <td>0.0</td>\n",
       "      <td>49577.000000</td>\n",
       "      <td>NaN</td>\n",
       "    </tr>\n",
       "    <tr>\n",
       "      <th>75%</th>\n",
       "      <td>NaN</td>\n",
       "      <td>NaN</td>\n",
       "      <td>NaN</td>\n",
       "      <td>NaN</td>\n",
       "      <td>NaN</td>\n",
       "      <td>NaN</td>\n",
       "      <td>NaN</td>\n",
       "      <td>2008.000000</td>\n",
       "      <td>NaN</td>\n",
       "      <td>150.000000</td>\n",
       "      <td>NaN</td>\n",
       "      <td>NaN</td>\n",
       "      <td>9.000000</td>\n",
       "      <td>NaN</td>\n",
       "      <td>NaN</td>\n",
       "      <td>NaN</td>\n",
       "      <td>NaN</td>\n",
       "      <td>0.0</td>\n",
       "      <td>71540.000000</td>\n",
       "      <td>NaN</td>\n",
       "    </tr>\n",
       "    <tr>\n",
       "      <th>max</th>\n",
       "      <td>NaN</td>\n",
       "      <td>NaN</td>\n",
       "      <td>NaN</td>\n",
       "      <td>NaN</td>\n",
       "      <td>NaN</td>\n",
       "      <td>NaN</td>\n",
       "      <td>NaN</td>\n",
       "      <td>9999.000000</td>\n",
       "      <td>NaN</td>\n",
       "      <td>17700.000000</td>\n",
       "      <td>NaN</td>\n",
       "      <td>NaN</td>\n",
       "      <td>12.000000</td>\n",
       "      <td>NaN</td>\n",
       "      <td>NaN</td>\n",
       "      <td>NaN</td>\n",
       "      <td>NaN</td>\n",
       "      <td>0.0</td>\n",
       "      <td>99998.000000</td>\n",
       "      <td>NaN</td>\n",
       "    </tr>\n",
       "  </tbody>\n",
       "</table>\n",
       "</div>"
      ],
      "text/plain": [
       "                dateCrawled         name  seller offerType  price abtest  \\\n",
       "count                 50000        50000   50000     50000  50000  50000   \n",
       "unique                48213        38754       2         2   2357      2   \n",
       "top     2016-03-23 19:38:20  Ford_Fiesta  privat   Angebot     $0   test   \n",
       "freq                      3           78   49999     49999   1421  25756   \n",
       "mean                    NaN          NaN     NaN       NaN    NaN    NaN   \n",
       "std                     NaN          NaN     NaN       NaN    NaN    NaN   \n",
       "min                     NaN          NaN     NaN       NaN    NaN    NaN   \n",
       "25%                     NaN          NaN     NaN       NaN    NaN    NaN   \n",
       "50%                     NaN          NaN     NaN       NaN    NaN    NaN   \n",
       "75%                     NaN          NaN     NaN       NaN    NaN    NaN   \n",
       "max                     NaN          NaN     NaN       NaN    NaN    NaN   \n",
       "\n",
       "       vehicleType  yearOfRegistration  gearbox       powerPS  model  \\\n",
       "count        44905        50000.000000    47320  50000.000000  47242   \n",
       "unique           8                 NaN        2           NaN    245   \n",
       "top      limousine                 NaN  manuell           NaN   golf   \n",
       "freq         12859                 NaN    36993           NaN   4024   \n",
       "mean           NaN         2005.073280      NaN    116.355920    NaN   \n",
       "std            NaN          105.712813      NaN    209.216627    NaN   \n",
       "min            NaN         1000.000000      NaN      0.000000    NaN   \n",
       "25%            NaN         1999.000000      NaN     70.000000    NaN   \n",
       "50%            NaN         2003.000000      NaN    105.000000    NaN   \n",
       "75%            NaN         2008.000000      NaN    150.000000    NaN   \n",
       "max            NaN         9999.000000      NaN  17700.000000    NaN   \n",
       "\n",
       "         odometer  monthOfRegistration fuelType       brand notRepairedDamage  \\\n",
       "count       50000         50000.000000    45518       50000             40171   \n",
       "unique         13                  NaN        7          40                 2   \n",
       "top     150,000km                  NaN   benzin  volkswagen              nein   \n",
       "freq        32424                  NaN    30107       10687             35232   \n",
       "mean          NaN             5.723360      NaN         NaN               NaN   \n",
       "std           NaN             3.711984      NaN         NaN               NaN   \n",
       "min           NaN             0.000000      NaN         NaN               NaN   \n",
       "25%           NaN             3.000000      NaN         NaN               NaN   \n",
       "50%           NaN             6.000000      NaN         NaN               NaN   \n",
       "75%           NaN             9.000000      NaN         NaN               NaN   \n",
       "max           NaN            12.000000      NaN         NaN               NaN   \n",
       "\n",
       "                dateCreated  nrOfPictures    postalCode             lastSeen  \n",
       "count                 50000       50000.0  50000.000000                50000  \n",
       "unique                   76           NaN           NaN                39481  \n",
       "top     2016-04-03 00:00:00           NaN           NaN  2016-04-07 06:17:27  \n",
       "freq                   1946           NaN           NaN                    8  \n",
       "mean                    NaN           0.0  50813.627300                  NaN  \n",
       "std                     NaN           0.0  25779.747957                  NaN  \n",
       "min                     NaN           0.0   1067.000000                  NaN  \n",
       "25%                     NaN           0.0  30451.000000                  NaN  \n",
       "50%                     NaN           0.0  49577.000000                  NaN  \n",
       "75%                     NaN           0.0  71540.000000                  NaN  \n",
       "max                     NaN           0.0  99998.000000                  NaN  "
      ]
     },
     "execution_count": 2,
     "metadata": {},
     "output_type": "execute_result"
    }
   ],
   "source": [
    "# initial stats\n",
    "autos.describe(include=\"all\")"
   ]
  },
  {
   "cell_type": "code",
   "execution_count": 3,
   "metadata": {},
   "outputs": [
    {
     "data": {
      "text/html": [
       "<div>\n",
       "<style scoped>\n",
       "    .dataframe tbody tr th:only-of-type {\n",
       "        vertical-align: middle;\n",
       "    }\n",
       "\n",
       "    .dataframe tbody tr th {\n",
       "        vertical-align: top;\n",
       "    }\n",
       "\n",
       "    .dataframe thead th {\n",
       "        text-align: right;\n",
       "    }\n",
       "</style>\n",
       "<table border=\"1\" class=\"dataframe\">\n",
       "  <thead>\n",
       "    <tr style=\"text-align: right;\">\n",
       "      <th></th>\n",
       "      <th>dateCrawled</th>\n",
       "      <th>name</th>\n",
       "      <th>seller</th>\n",
       "      <th>offerType</th>\n",
       "      <th>price</th>\n",
       "      <th>abtest</th>\n",
       "      <th>vehicleType</th>\n",
       "      <th>yearOfRegistration</th>\n",
       "      <th>gearbox</th>\n",
       "      <th>powerPS</th>\n",
       "      <th>model</th>\n",
       "      <th>odometer</th>\n",
       "      <th>monthOfRegistration</th>\n",
       "      <th>fuelType</th>\n",
       "      <th>brand</th>\n",
       "      <th>notRepairedDamage</th>\n",
       "      <th>dateCreated</th>\n",
       "      <th>nrOfPictures</th>\n",
       "      <th>postalCode</th>\n",
       "      <th>lastSeen</th>\n",
       "    </tr>\n",
       "  </thead>\n",
       "  <tbody>\n",
       "    <tr>\n",
       "      <th>0</th>\n",
       "      <td>2016-03-26 17:47:46</td>\n",
       "      <td>Peugeot_807_160_NAVTECH_ON_BOARD</td>\n",
       "      <td>privat</td>\n",
       "      <td>Angebot</td>\n",
       "      <td>$5,000</td>\n",
       "      <td>control</td>\n",
       "      <td>bus</td>\n",
       "      <td>2004</td>\n",
       "      <td>manuell</td>\n",
       "      <td>158</td>\n",
       "      <td>andere</td>\n",
       "      <td>150,000km</td>\n",
       "      <td>3</td>\n",
       "      <td>lpg</td>\n",
       "      <td>peugeot</td>\n",
       "      <td>nein</td>\n",
       "      <td>2016-03-26 00:00:00</td>\n",
       "      <td>0</td>\n",
       "      <td>79588</td>\n",
       "      <td>2016-04-06 06:45:54</td>\n",
       "    </tr>\n",
       "    <tr>\n",
       "      <th>1</th>\n",
       "      <td>2016-04-04 13:38:56</td>\n",
       "      <td>BMW_740i_4_4_Liter_HAMANN_UMBAU_Mega_Optik</td>\n",
       "      <td>privat</td>\n",
       "      <td>Angebot</td>\n",
       "      <td>$8,500</td>\n",
       "      <td>control</td>\n",
       "      <td>limousine</td>\n",
       "      <td>1997</td>\n",
       "      <td>automatik</td>\n",
       "      <td>286</td>\n",
       "      <td>7er</td>\n",
       "      <td>150,000km</td>\n",
       "      <td>6</td>\n",
       "      <td>benzin</td>\n",
       "      <td>bmw</td>\n",
       "      <td>nein</td>\n",
       "      <td>2016-04-04 00:00:00</td>\n",
       "      <td>0</td>\n",
       "      <td>71034</td>\n",
       "      <td>2016-04-06 14:45:08</td>\n",
       "    </tr>\n",
       "    <tr>\n",
       "      <th>2</th>\n",
       "      <td>2016-03-26 18:57:24</td>\n",
       "      <td>Volkswagen_Golf_1.6_United</td>\n",
       "      <td>privat</td>\n",
       "      <td>Angebot</td>\n",
       "      <td>$8,990</td>\n",
       "      <td>test</td>\n",
       "      <td>limousine</td>\n",
       "      <td>2009</td>\n",
       "      <td>manuell</td>\n",
       "      <td>102</td>\n",
       "      <td>golf</td>\n",
       "      <td>70,000km</td>\n",
       "      <td>7</td>\n",
       "      <td>benzin</td>\n",
       "      <td>volkswagen</td>\n",
       "      <td>nein</td>\n",
       "      <td>2016-03-26 00:00:00</td>\n",
       "      <td>0</td>\n",
       "      <td>35394</td>\n",
       "      <td>2016-04-06 20:15:37</td>\n",
       "    </tr>\n",
       "    <tr>\n",
       "      <th>3</th>\n",
       "      <td>2016-03-12 16:58:10</td>\n",
       "      <td>Smart_smart_fortwo_coupe_softouch/F1/Klima/Pan...</td>\n",
       "      <td>privat</td>\n",
       "      <td>Angebot</td>\n",
       "      <td>$4,350</td>\n",
       "      <td>control</td>\n",
       "      <td>kleinwagen</td>\n",
       "      <td>2007</td>\n",
       "      <td>automatik</td>\n",
       "      <td>71</td>\n",
       "      <td>fortwo</td>\n",
       "      <td>70,000km</td>\n",
       "      <td>6</td>\n",
       "      <td>benzin</td>\n",
       "      <td>smart</td>\n",
       "      <td>nein</td>\n",
       "      <td>2016-03-12 00:00:00</td>\n",
       "      <td>0</td>\n",
       "      <td>33729</td>\n",
       "      <td>2016-03-15 03:16:28</td>\n",
       "    </tr>\n",
       "    <tr>\n",
       "      <th>4</th>\n",
       "      <td>2016-04-01 14:38:50</td>\n",
       "      <td>Ford_Focus_1_6_Benzin_TÜV_neu_ist_sehr_gepfleg...</td>\n",
       "      <td>privat</td>\n",
       "      <td>Angebot</td>\n",
       "      <td>$1,350</td>\n",
       "      <td>test</td>\n",
       "      <td>kombi</td>\n",
       "      <td>2003</td>\n",
       "      <td>manuell</td>\n",
       "      <td>0</td>\n",
       "      <td>focus</td>\n",
       "      <td>150,000km</td>\n",
       "      <td>7</td>\n",
       "      <td>benzin</td>\n",
       "      <td>ford</td>\n",
       "      <td>nein</td>\n",
       "      <td>2016-04-01 00:00:00</td>\n",
       "      <td>0</td>\n",
       "      <td>39218</td>\n",
       "      <td>2016-04-01 14:38:50</td>\n",
       "    </tr>\n",
       "  </tbody>\n",
       "</table>\n",
       "</div>"
      ],
      "text/plain": [
       "           dateCrawled                                               name  \\\n",
       "0  2016-03-26 17:47:46                   Peugeot_807_160_NAVTECH_ON_BOARD   \n",
       "1  2016-04-04 13:38:56         BMW_740i_4_4_Liter_HAMANN_UMBAU_Mega_Optik   \n",
       "2  2016-03-26 18:57:24                         Volkswagen_Golf_1.6_United   \n",
       "3  2016-03-12 16:58:10  Smart_smart_fortwo_coupe_softouch/F1/Klima/Pan...   \n",
       "4  2016-04-01 14:38:50  Ford_Focus_1_6_Benzin_TÜV_neu_ist_sehr_gepfleg...   \n",
       "\n",
       "   seller offerType   price   abtest vehicleType  yearOfRegistration  \\\n",
       "0  privat   Angebot  $5,000  control         bus                2004   \n",
       "1  privat   Angebot  $8,500  control   limousine                1997   \n",
       "2  privat   Angebot  $8,990     test   limousine                2009   \n",
       "3  privat   Angebot  $4,350  control  kleinwagen                2007   \n",
       "4  privat   Angebot  $1,350     test       kombi                2003   \n",
       "\n",
       "     gearbox  powerPS   model   odometer  monthOfRegistration fuelType  \\\n",
       "0    manuell      158  andere  150,000km                    3      lpg   \n",
       "1  automatik      286     7er  150,000km                    6   benzin   \n",
       "2    manuell      102    golf   70,000km                    7   benzin   \n",
       "3  automatik       71  fortwo   70,000km                    6   benzin   \n",
       "4    manuell        0   focus  150,000km                    7   benzin   \n",
       "\n",
       "        brand notRepairedDamage          dateCreated  nrOfPictures  \\\n",
       "0     peugeot              nein  2016-03-26 00:00:00             0   \n",
       "1         bmw              nein  2016-04-04 00:00:00             0   \n",
       "2  volkswagen              nein  2016-03-26 00:00:00             0   \n",
       "3       smart              nein  2016-03-12 00:00:00             0   \n",
       "4        ford              nein  2016-04-01 00:00:00             0   \n",
       "\n",
       "   postalCode             lastSeen  \n",
       "0       79588  2016-04-06 06:45:54  \n",
       "1       71034  2016-04-06 14:45:08  \n",
       "2       35394  2016-04-06 20:15:37  \n",
       "3       33729  2016-03-15 03:16:28  \n",
       "4       39218  2016-04-01 14:38:50  "
      ]
     },
     "execution_count": 3,
     "metadata": {},
     "output_type": "execute_result"
    }
   ],
   "source": [
    "# first five rows\n",
    "autos.head()"
   ]
  },
  {
   "cell_type": "markdown",
   "metadata": {},
   "source": [
    "## Begin Cleaning Data Set\n",
    "* The `price` and `odometer` columns need to be converted to integers.\n",
    "* The column titles could be more clear and use snake_case.\n",
    "* It would be nice if the `name`, `brand`, `model`, and `vehicle_type` columns were grouped together."
   ]
  },
  {
   "cell_type": "code",
   "execution_count": 4,
   "metadata": {},
   "outputs": [
    {
     "name": "stdout",
     "output_type": "stream",
     "text": [
      "The data type for the price column is :  int64\n",
      "The data type for the odometer_km column is :  int64\n"
     ]
    }
   ],
   "source": [
    "# clean the price and odometer columns\n",
    "autos[\"price\"] = autos[\"price\"].str.replace(\"$\",\"\").str.replace(\",\",\"\")\n",
    "autos[\"price\"] = autos[\"price\"].astype(int)\n",
    "autos[\"odometer\"] = autos[\"odometer\"].str.replace(\",\",\"\").str.replace(\"km\",\"\")\n",
    "autos[\"odometer\"] = autos[\"odometer\"].astype(int)\n",
    "autos.rename(columns={\"odometer\" : \"odometer_km\"}, inplace=True)\n",
    "print(\"The data type for the price column is : \", autos[\"price\"].dtypes)\n",
    "print(\"The data type for the odometer_km column is : \", autos[\"odometer_km\"].dtypes)\n",
    "# change the column names\n",
    "new_cols = ['date_crawled', 'name', 'seller', 'offer_type', 'price', 'ab_test',\n",
    "       'vehicle_type', 'year_of_registration', 'gearbox', 'powerPS', 'model',\n",
    "       'odometer_km', 'month_of_registration', 'fuel_type', 'brand',\n",
    "       'unrepaired_damage', 'ad_created', 'num_of_pictures', 'postal_code',\n",
    "       'last_seen']\n",
    "autos.columns = new_cols\n",
    "# reorder columns\n",
    "autos = autos.reindex(columns=[\"date_crawled\", \"price\", \"name\", \"brand\", \"model\", \"vehicle_type\", \"ab_test\",\n",
    "                   \"odometer_km\", \"month_of_registration\", \"year_of_registration\", \"gearbox\",\"powerPS\",\n",
    "                   \"fuel_type\", \"unrepaired_damage\", \"ad_created\", \"postal_code\", \"last_seen\",\n",
    "                              \"seller\", \"offer_type\", \"num_of_pictures\"])"
   ]
  },
  {
   "cell_type": "markdown",
   "metadata": {},
   "source": [
    "## Removing outliers and unnecessary columns\n",
    "## Part 1 of 4\n",
    "Looking at the `price` and `odometer` columns.\n",
    "* The majority of the values in the price column are less than 500,000 but a small number are close to or well over 1,000,000! The rows for these prices do not appear to be unique in other ways nor are they related to the three columns being considered for removal. Two of the entries are for an expensive brand, but they are not representative of either group. Most of the expensive cars are priced a suspicious \\\\$12,345,678🤔. The high number of vehicles (1421) with a price of 0 will skew the results as well. Keeping all rows with prices between \\\\$1 and \\\\$500,00 seems to make sense.\n",
    "* The odometer column doesn't contain any outlier values. It is broken into a group of 13 buckets. Notably, 64% of the entries are in the 150,000km or more category. There doesn't seem to be any reason to remove any of the rows based on the odometer entries."
   ]
  },
  {
   "cell_type": "code",
   "execution_count": 5,
   "metadata": {},
   "outputs": [
    {
     "name": "stdout",
     "output_type": "stream",
     "text": [
      "Here's the index and price for the 15 most expensive vehicles:\n",
      " 39705    99999999\n",
      "42221    27322222\n",
      "39377    12345678\n",
      "47598    12345678\n",
      "27371    12345678\n",
      "2897     11111111\n",
      "24384    11111111\n",
      "11137    10000000\n",
      "47634     3890000\n",
      "7814      1300000\n",
      "22947     1234566\n",
      "43049      999999\n",
      "514        999999\n",
      "37585      999990\n",
      "36818      350000\n",
      "Name: price, dtype: int64\n",
      "Here's the index and price for the 10 least expensive vehicles:\n",
      " 31332    0\n",
      "35821    0\n",
      "8438     0\n",
      "43925    0\n",
      "38832    0\n",
      "8445     0\n",
      "29499    0\n",
      "15225    0\n",
      "43923    0\n",
      "18089    0\n",
      "Name: price, dtype: int64\n"
     ]
    }
   ],
   "source": [
    "# isolate the price column and reveal outlier values\n",
    "price_series = autos[\"price\"]\n",
    "print(\"Here's the index and price for the 15 most expensive vehicles:\\n\", price_series.sort_values(ascending=False).head(n=15))\n",
    "print(\"Here's the index and price for the 10 least expensive vehicles:\\n\", price_series.sort_values(ascending=False).tail(n=10))"
   ]
  },
  {
   "cell_type": "code",
   "execution_count": 6,
   "metadata": {},
   "outputs": [
    {
     "name": "stdout",
     "output_type": "stream",
     "text": [
      "The number of cars between $1 and $100:  475\n",
      "The number of cars more than $500,000:  14\n",
      "The number of cars that are free:  1421\n",
      "This chart shows the most and least expensive cars.\n"
     ]
    }
   ],
   "source": [
    "# examine rows with outlier prices\n",
    "cheap_cars = autos[autos[\"price\"].between(1,100)]\n",
    "print(\"The number of cars between $1 and $100: \", len(cheap_cars))\n",
    "expensive_cars = autos[autos[\"price\"]>500000]\n",
    "print(\"The number of cars more than $500,000: \", len(expensive_cars))\n",
    "free_cars = autos[autos[\"price\"] == 0]\n",
    "print(\"The number of cars that are free: \", len(free_cars))\n",
    "outlier_bool = (autos[\"price\"] < 1) | (autos[\"price\"] > 500000)\n",
    "outlier_rows = autos[outlier_bool]\n",
    "outlier_rows.sort_values(by=\"price\", axis=0, ascending=False)\n",
    "print(\"This chart shows the most and least expensive cars.\")"
   ]
  },
  {
   "cell_type": "code",
   "execution_count": 7,
   "metadata": {},
   "outputs": [
    {
     "name": "stdout",
     "output_type": "stream",
     "text": [
      "Length:  50000\n",
      "Length:  48565\n"
     ]
    }
   ],
   "source": [
    "# remove rows with outlier prices\n",
    "print(\"Length: \", len(autos))\n",
    "autos = autos[autos[\"price\"].between(1, 500000)]\n",
    "print(\"Length: \", len(autos))"
   ]
  },
  {
   "cell_type": "code",
   "execution_count": 8,
   "metadata": {},
   "outputs": [
    {
     "name": "stdout",
     "output_type": "stream",
     "text": [
      "(13,)\n",
      "<bound method NDFrame.describe of 0        150000\n",
      "1        150000\n",
      "2         70000\n",
      "3         70000\n",
      "4        150000\n",
      "          ...  \n",
      "49995    100000\n",
      "49996    150000\n",
      "49997      5000\n",
      "49998     40000\n",
      "49999    150000\n",
      "Name: odometer_km, Length: 48565, dtype: int64>\n"
     ]
    },
    {
     "data": {
      "text/plain": [
       "150000    31414\n",
       "125000     5057\n",
       "100000     2115\n",
       "90000      1734\n",
       "80000      1415\n",
       "70000      1217\n",
       "60000      1155\n",
       "50000      1012\n",
       "40000       815\n",
       "30000       780\n",
       "20000       762\n",
       "10000       253\n",
       "5000        836\n",
       "Name: odometer_km, dtype: int64"
      ]
     },
     "execution_count": 8,
     "metadata": {},
     "output_type": "execute_result"
    }
   ],
   "source": [
    "# isolate the odometer column and reveal outlier values\n",
    "odometer_series = autos[\"odometer_km\"]\n",
    "print(odometer_series.unique().shape)\n",
    "print(odometer_series.describe)\n",
    "odometer_series.value_counts().sort_index(ascending=False).head(n=15)"
   ]
  },
  {
   "cell_type": "markdown",
   "metadata": {},
   "source": [
    "## Removing outliers and unnecessary columns\n",
    "### Part 2 of 4\n",
    "We can probably remove these three columns and make a note in the conclusion.\n",
    "* The `seller` and `offer_type` columns have only two values in each column. In each, one value represents all of the entries except for one entry.\n",
    "* The `num_of_pictures` column only has one entry, \"0\"."
   ]
  },
  {
   "cell_type": "code",
   "execution_count": 9,
   "metadata": {},
   "outputs": [
    {
     "name": "stdout",
     "output_type": "stream",
     "text": [
      "privat        48564\n",
      "gewerblich        1\n",
      "Name: seller, dtype: int64\n",
      "Angebot    48565\n",
      "Name: offer_type, dtype: int64\n",
      "0    48565\n",
      "Name: num_of_pictures, dtype: int64\n"
     ]
    }
   ],
   "source": [
    "# close look at value counts in three columns\n",
    "print(autos[\"seller\"].value_counts())\n",
    "print(autos[\"offer_type\"].value_counts())\n",
    "print(autos[\"num_of_pictures\"].value_counts())"
   ]
  },
  {
   "cell_type": "code",
   "execution_count": 10,
   "metadata": {},
   "outputs": [],
   "source": [
    "# drop the seller, offer_type, and num_of_pictures columns\n",
    "autos = autos.drop([\"seller\", \"offer_type\", \"num_of_pictures\"], axis=1)"
   ]
  },
  {
   "cell_type": "markdown",
   "metadata": {},
   "source": [
    "## Removing outliers and unnecessary columns\n",
    "### Part 3 of 4\n",
    "The date values are in string format and should be converted but an initial look shows some interesting things.\n",
    "* The `date_crawled` column shows a normal distribution for when the ads were put into the data set. There are three low points that could be due to problems with the bot or network, or some other factor.\n",
    "* The `date_created` column is heavily skewed to the left. However, the tail is very shallow and the vast majority of entries occurs under a normal distribution. Creating a frequency table shows some ads with much older `date_created` values than the rest of the set. This is the only one of the three with dates prior to March 2016. Again, there are three low points that interestingly appear to correspond to the low points in the date_crawled series. Removing any dates prior to the earliest date for the `date_crawled` column removes 203 entries. Looking at a line graph for `date_crawled` and `date_created` confirms that the dips occur at the same times.\n",
    "* The `last_seen` column aligns more closely with `date_crawled` than the `date_created` column but there is a huge increase on April 4-6. These three days represent over 50% of the values in this column.\n"
   ]
  },
  {
   "cell_type": "code",
   "execution_count": 11,
   "metadata": {},
   "outputs": [
    {
     "data": {
      "image/png": "[encoded data removed]",
      "text/plain": [
       "<Figure size 720x504 with 1 Axes>"
      ]
     },
     "metadata": {
      "needs_background": "light"
     },
     "output_type": "display_data"
    }
   ],
   "source": [
    "# isolate the date portion of the date_crawled column and count the number of entries per day\n",
    "date_crawled_dist = autos[\"date_crawled\"].str[:10].value_counts().sort_index()\n",
    "# set width and height for plots\n",
    "plt.rcParams['figure.figsize'] = [10,7]\n",
    "# create a line plot showing crawl volume for each day\n",
    "date_crawled_dist.plot.line()\n",
    "plt.ylabel(\"Number of entries\")\n",
    "plt.xlabel(\"Date Crawled\")\n",
    "plt.xticks(rotation=30)\n",
    "plt.show()"
   ]
  },
  {
   "cell_type": "code",
   "execution_count": 12,
   "metadata": {},
   "outputs": [
    {
     "data": {
      "image/png": "[encoded data removed]",
      "text/plain": [
       "<Figure size 720x504 with 1 Axes>"
      ]
     },
     "metadata": {
      "needs_background": "light"
     },
     "output_type": "display_data"
    }
   ],
   "source": [
    "# isolate the date portion of the ad_created column and count the number of entries per day\n",
    "ad_created_dist = autos[\"ad_created\"].str[:10].value_counts().sort_index()\n",
    "# create a line plot showing day the ad was created\n",
    "ad_created_dist.plot.line()\n",
    "plt.ylabel(\"Number of entries\")\n",
    "plt.xlabel(\"Date Ad Created\")\n",
    "plt.xticks(rotation=30)\n",
    "plt.show()"
   ]
  },
  {
   "cell_type": "code",
   "execution_count": 13,
   "metadata": {},
   "outputs": [
    {
     "name": "stdout",
     "output_type": "stream",
     "text": [
      "48362\n",
      "48362\n"
     ]
    },
    {
     "data": {
      "image/png": "[encoded data removed]",
      "text/plain": [
       "<Figure size 720x504 with 1 Axes>"
      ]
     },
     "metadata": {
      "needs_background": "light"
     },
     "output_type": "display_data"
    }
   ],
   "source": [
    "# remove early entries so ad_created start date matches dates for date_crawled column\n",
    "autos = autos[autos[\"ad_created\"].str[:4] != \"2015\"]\n",
    "autos = autos[autos[\"ad_created\"].str[:7] != \"2016-01\"]\n",
    "autos = autos[autos[\"ad_created\"].str[:7] != \"2016-02\"]\n",
    "autos = autos[autos[\"ad_created\"].str[:10] != \"2016-03-01\"]\n",
    "autos = autos[autos[\"ad_created\"].str[:10] != \"2016-03-02\"]\n",
    "autos = autos[autos[\"ad_created\"].str[:10] != \"2016-03-03\"]\n",
    "autos = autos[autos[\"ad_created\"].str[:10] != \"2016-03-04\"]\n",
    "print(len(autos))\n",
    "# create a line plot showing day the ad was created\n",
    "print(len(autos))\n",
    "ad_created_dist = autos[\"ad_created\"].str[:10].value_counts().sort_index()\n",
    "ad_created_dist.plot.line()\n",
    "plt.ylabel(\"Number of entries\")\n",
    "plt.xlabel(\"Date Ad Created\")\n",
    "plt.xticks(rotation=30)\n",
    "plt.show()"
   ]
  },
  {
   "cell_type": "code",
   "execution_count": 14,
   "metadata": {},
   "outputs": [
    {
     "data": {
      "image/png": "[encoded data removed]",
      "text/plain": [
       "<Figure size 720x504 with 1 Axes>"
      ]
     },
     "metadata": {
      "needs_background": "light"
     },
     "output_type": "display_data"
    }
   ],
   "source": [
    "# create a line plot that shows date_crawled and ad_created\n",
    "distributions = [date_crawled_dist, ad_created_dist]\n",
    "for distribution in distributions:\n",
    "    distribution.plot.line()\n",
    "plt.legend()\n",
    "plt.xticks(rotation=30)\n",
    "plt.show()"
   ]
  },
  {
   "cell_type": "code",
   "execution_count": 15,
   "metadata": {},
   "outputs": [
    {
     "data": {
      "image/png": "[encoded data removed]",
      "text/plain": [
       "<Figure size 720x504 with 1 Axes>"
      ]
     },
     "metadata": {
      "needs_background": "light"
     },
     "output_type": "display_data"
    }
   ],
   "source": [
    "# isolate the date portion of the last_seen column and count the number of entries per day\n",
    "last_seen_dist = autos[\"last_seen\"].str[:10].value_counts().sort_index()\n",
    "# create a line plot showing day the ad was removed\n",
    "last_seen_dist.plot.line()\n",
    "plt.ylabel(\"Number of entries\")\n",
    "plt.xlabel(\"Date Ad Removed\")\n",
    "plt.xticks(rotation=30)\n",
    "plt.show()"
   ]
  },
  {
   "cell_type": "code",
   "execution_count": 16,
   "metadata": {
    "scrolled": true
   },
   "outputs": [
    {
     "data": {
      "text/plain": [
       "2016-03-05     0.097184\n",
       "2016-03-06     0.403209\n",
       "2016-03-07     0.525206\n",
       "2016-03-08     0.734047\n",
       "2016-03-09     0.942889\n",
       "2016-03-10     1.056615\n",
       "2016-03-11     1.228237\n",
       "2016-03-12     2.367561\n",
       "2016-03-13     0.876721\n",
       "2016-03-14     1.261321\n",
       "2016-03-15     1.585956\n",
       "2016-03-16     1.647988\n",
       "2016-03-17     2.799719\n",
       "2016-03-18     0.736115\n",
       "2016-03-19     1.585956\n",
       "2016-03-20     2.063604\n",
       "2016-03-21     2.065671\n",
       "2016-03-22     2.131839\n",
       "2016-03-23     1.848559\n",
       "2016-03-24     1.982962\n",
       "2016-03-25     1.922997\n",
       "2016-03-26     1.683140\n",
       "2016-03-27     1.571482\n",
       "2016-03-28     2.092552\n",
       "2016-03-29     2.243497\n",
       "2016-03-30     2.479219\n",
       "2016-03-31     2.384103\n",
       "2016-04-01     2.280716\n",
       "2016-04-02     2.501964\n",
       "2016-04-03     2.528845\n",
       "2016-04-04     2.454406\n",
       "2016-04-05    12.478806\n",
       "2016-04-06    22.221992\n",
       "2016-04-07    13.214921\n",
       "Name: last_seen, dtype: float64"
      ]
     },
     "execution_count": 16,
     "metadata": {},
     "output_type": "execute_result"
    }
   ],
   "source": [
    "# create a frequency table for the last_seen column\n",
    "# this allows for a more precise measure for the volume in the last three days\n",
    "last_seen_freq = autos[\"last_seen\"].str[:10].value_counts(normalize=True, dropna=False)*100\n",
    "last_seen_freq = last_seen_freq.sort_index()\n",
    "last_seen_freq"
   ]
  },
  {
   "cell_type": "markdown",
   "metadata": {},
   "source": [
    "## Removing outliers and unnecessary columns\n",
    "### Part 4 of 4\n",
    "The `year_of_registration` column has 5 entries prior to 1900 and 1879 after 2016. It's unlikely that any of these dates are correct. It would take far to long to look up the true values for these entries and using a mean value would not be appropriate for what this column represents. Removing them might allow a more accurate view of the distribution. Interestingly, while this does affect the minimum, maximum, and standard deviation values, it results in little change to the upper ends of the first, second, and third quartiles."
   ]
  },
  {
   "cell_type": "code",
   "execution_count": 17,
   "metadata": {},
   "outputs": [
    {
     "name": "stdout",
     "output_type": "stream",
     "text": [
      "count    48362.000000\n",
      "mean      2004.757371\n",
      "std         88.828659\n",
      "min       1000.000000\n",
      "25%       1999.000000\n",
      "50%       2004.000000\n",
      "75%       2008.000000\n",
      "max       9999.000000\n",
      "Name: year_of_registration, dtype: float64\n"
     ]
    }
   ],
   "source": [
    "# isolate the year_of_registration column and get initial stats\n",
    "registration_series = autos[\"year_of_registration\"]\n",
    "print(registration_series.describe())"
   ]
  },
  {
   "cell_type": "code",
   "execution_count": 18,
   "metadata": {},
   "outputs": [
    {
     "name": "stdout",
     "output_type": "stream",
     "text": [
      "5\n",
      "1870\n",
      "The length of the data set before removing outlier registration year values is:  48362\n",
      "The length of the data set after removing outlier registration year values is:  46487\n"
     ]
    }
   ],
   "source": [
    "# remove year_of_registration outliers\n",
    "print(len(autos[autos[\"year_of_registration\"] < 1900]))\n",
    "print(len(autos[autos[\"year_of_registration\"] > 2016]))\n",
    "print(\"The length of the data set before removing outlier registration year values is: \", len(autos))\n",
    "autos = autos[autos[\"year_of_registration\"].between(1900, 2016)]\n",
    "print(\"The length of the data set after removing outlier registration year values is: \", len(autos))"
   ]
  },
  {
   "cell_type": "code",
   "execution_count": 19,
   "metadata": {},
   "outputs": [
    {
     "name": "stdout",
     "output_type": "stream",
     "text": [
      "count    46487.000000\n",
      "mean      2002.907480\n",
      "std          7.188417\n",
      "min       1910.000000\n",
      "25%       1999.000000\n",
      "50%       2003.000000\n",
      "75%       2008.000000\n",
      "max       2016.000000\n",
      "Name: year_of_registration, dtype: float64\n",
      "The earliest year for a vehicle to be registered is: 1910\n",
      "The latest year for a vehicle to be registered is: 2016\n"
     ]
    }
   ],
   "source": [
    "# isolate the year_of_registration column and get final stats\n",
    "registration_series = autos[\"year_of_registration\"]\n",
    "print(registration_series.describe())\n",
    "print(\"The earliest year for a vehicle to be registered is:\", registration_series.min())\n",
    "print(\"The latest year for a vehicle to be registered is:\", registration_series.max())"
   ]
  },
  {
   "cell_type": "markdown",
   "metadata": {},
   "source": [
    "## Focusing on the Brand\n",
    "At this point the dataset is prepared for an initial analysis. Many consumer choices are influenced by brand. Using that as a reference for looking at mean price and mean mileage is a good way to begin grouping the entries."
   ]
  },
  {
   "cell_type": "code",
   "execution_count": 20,
   "metadata": {},
   "outputs": [
    {
     "data": {
      "image/png": "[encoded data removed]",
      "text/plain": [
       "<Figure size 720x504 with 1 Axes>"
      ]
     },
     "metadata": {
      "needs_background": "light"
     },
     "output_type": "display_data"
    }
   ],
   "source": [
    "# isolate the brand column and look at totals and relative frequencies.\n",
    "brand_series = autos[\"brand\"]\n",
    "# brand_value_counts = brand_series.value_counts()\n",
    "brand_value_counts = brand_series.value_counts(normalize=True, dropna=False)*100\n",
    "# print(brand_value_counts)\n",
    "# create a line plot showing volume of sales by brand\n",
    "# how do i get volkswagen on the last tick?\n",
    "brand_value_counts.plot.line()\n",
    "plt.ylabel(\"Number of entries\")\n",
    "plt.xlabel(\"Brand\")\n",
    "plt.xticks(rotation=45)\n",
    "plt.show()"
   ]
  },
  {
   "cell_type": "code",
   "execution_count": 21,
   "metadata": {},
   "outputs": [],
   "source": [
    "# a function to create a dictionary and mean column value for part of a series\n",
    "def autos_converter(c_series, mean_column, start_slice=0, stop_slice=5):\n",
    "    \"\"\"\n",
    "    Takes a series index and returns that index and the mean of a column in the autos dataframe.\n",
    "    Can be sliced. Default = 0:5\n",
    "    Example:\n",
    "    >>> autos_converter(c_series=brand_value_counts, mean_column=\"price\", stop_slice=2)\n",
    "    {'volkswagen': 5404.27828123409, 'bmw': 8337.549843627834}\n",
    "    \"\"\"\n",
    "    series_slice = c_series.iloc[start_slice:stop_slice]\n",
    "    series_dict = {}\n",
    "    for index in series_slice.index:\n",
    "        index_mean = autos.loc[autos[\"brand\"] == index, mean_column].mean()\n",
    "        series_dict[index] = index_mean\n",
    "    return series_dict"
   ]
  },
  {
   "cell_type": "code",
   "execution_count": 22,
   "metadata": {},
   "outputs": [],
   "source": [
    "# create dictionary with brand and mean price for top five selling brands\n",
    "t5_mean_price = autos_converter(c_series=brand_value_counts, mean_column=\"price\")\n",
    "# create dictionary with brand and mean odometer_km for top five selling brands\n",
    "t5_mean_odomkm = autos_converter(c_series=brand_value_counts, mean_column=\"odometer_km\")"
   ]
  },
  {
   "cell_type": "code",
   "execution_count": 23,
   "metadata": {},
   "outputs": [],
   "source": [
    "# i could have made another fundtion but i have to get onto the next project!\n",
    "# transform t5_mean_price dictionary to dataframe\n",
    "t5_mean_price_series = pd.Series(t5_mean_price)\n",
    "t5_df = pd.DataFrame(t5_mean_price_series, columns=[\"mean_price\"])\n",
    "# add columns for mean odometer_km and relative frequency in original df\n",
    "t5_mean_odomkm_series = pd.Series(t5_mean_odomkm)\n",
    "t5_df[\"mean_odomkm\"] = t5_mean_odomkm_series\n",
    "t5_df[\"%_in_autos\"] = brand_value_counts[:5]\n",
    "t5_df = t5_df.astype(int)\n",
    "t5_df = t5_df.reset_index()\n",
    "t5_df = t5_df.rename(columns={'index': 'brand'})"
   ]
  },
  {
   "cell_type": "code",
   "execution_count": 24,
   "metadata": {},
   "outputs": [],
   "source": [
    "# create dictionary with brand and mean price for five least selling brands\n",
    "l5_mean_price = autos_converter(c_series=brand_value_counts, mean_column=\"price\", start_slice=-5, stop_slice=None)\n",
    "# create dictionary with brand and mean odometer_km for five least selling brands\n",
    "l5_mean_odomkm = autos_converter(c_series=brand_value_counts, mean_column=\"odometer_km\", start_slice=-5, stop_slice=None)"
   ]
  },
  {
   "cell_type": "code",
   "execution_count": 25,
   "metadata": {},
   "outputs": [],
   "source": [
    "# transform l5_mean_price dictionary to dataframe\n",
    "l5_mean_price_series = pd.Series(l5_mean_price)\n",
    "l5_df = pd.DataFrame(l5_mean_price_series, columns=[\"mean_price\"])\n",
    "# add columns for mean odometer_km and relative frequency in original df\n",
    "l5_mean_odomkm_series = pd.Series(l5_mean_odomkm)\n",
    "l5_df[\"mean_odomkm\"] = l5_mean_odomkm_series\n",
    "l5_df[\"%_in_autos\"] = brand_value_counts[-5:]\n",
    "l5_df = l5_df.astype(int)\n",
    "l5_df = l5_df.reset_index()\n",
    "l5_df = l5_df.rename(columns={'index': 'brand'})"
   ]
  },
  {
   "cell_type": "code",
   "execution_count": 26,
   "metadata": {},
   "outputs": [],
   "source": [
    "t5_df[\"price_mileage_ratio\"] = 0\n",
    "t5_df[\"price_mileage_ratio\"] = t5_df[\"mean_price\"] / t5_df[\"mean_odomkm\"]\n",
    "l5_df[\"price_mileage_ratio\"] = 0\n",
    "l5_df[\"price_mileage_ratio\"] = l5_df[\"mean_price\"] / l5_df[\"mean_odomkm\"]"
   ]
  },
  {
   "cell_type": "code",
   "execution_count": 27,
   "metadata": {},
   "outputs": [
    {
     "data": {
      "text/html": [
       "<div>\n",
       "<style scoped>\n",
       "    .dataframe tbody tr th:only-of-type {\n",
       "        vertical-align: middle;\n",
       "    }\n",
       "\n",
       "    .dataframe tbody tr th {\n",
       "        vertical-align: top;\n",
       "    }\n",
       "\n",
       "    .dataframe thead th {\n",
       "        text-align: right;\n",
       "    }\n",
       "</style>\n",
       "<table border=\"1\" class=\"dataframe\">\n",
       "  <thead>\n",
       "    <tr style=\"text-align: center;\">\n",
       "      <th></th>\n",
       "      <th>brand</th>\n",
       "      <th>mean_price</th>\n",
       "      <th>mean_odomkm</th>\n",
       "      <th>%_in_autos</th>\n",
       "      <th>price_mileage_ratio</th>\n",
       "    </tr>\n",
       "  </thead>\n",
       "  <tbody>\n",
       "    <tr>\n",
       "      <th>0</th>\n",
       "      <td>volkswagen</td>\n",
       "      <td>5404</td>\n",
       "      <td>128695</td>\n",
       "      <td>21</td>\n",
       "      <td>0.042</td>\n",
       "    </tr>\n",
       "    <tr>\n",
       "      <th>1</th>\n",
       "      <td>bmw</td>\n",
       "      <td>8337</td>\n",
       "      <td>132600</td>\n",
       "      <td>11</td>\n",
       "      <td>0.063</td>\n",
       "    </tr>\n",
       "    <tr>\n",
       "      <th>2</th>\n",
       "      <td>opel</td>\n",
       "      <td>2966</td>\n",
       "      <td>129425</td>\n",
       "      <td>10</td>\n",
       "      <td>0.023</td>\n",
       "    </tr>\n",
       "    <tr>\n",
       "      <th>3</th>\n",
       "      <td>mercedes_benz</td>\n",
       "      <td>8625</td>\n",
       "      <td>130786</td>\n",
       "      <td>9</td>\n",
       "      <td>0.066</td>\n",
       "    </tr>\n",
       "    <tr>\n",
       "      <th>4</th>\n",
       "      <td>audi</td>\n",
       "      <td>9341</td>\n",
       "      <td>129118</td>\n",
       "      <td>8</td>\n",
       "      <td>0.072</td>\n",
       "    </tr>\n",
       "  </tbody>\n",
       "</table>\n",
       "</div>"
      ],
      "text/plain": [
       "      brand       mean_price  mean_odomkm  %_in_autos  price_mileage_ratio\n",
       "0     volkswagen     5404       128695         21             0.042       \n",
       "1            bmw     8337       132600         11             0.063       \n",
       "2           opel     2966       129425         10             0.023       \n",
       "3  mercedes_benz     8625       130786          9             0.066       \n",
       "4           audi     9341       129118          8             0.072       "
      ]
     },
     "metadata": {},
     "output_type": "display_data"
    },
    {
     "data": {
      "text/html": [
       "<div>\n",
       "<style scoped>\n",
       "    .dataframe tbody tr th:only-of-type {\n",
       "        vertical-align: middle;\n",
       "    }\n",
       "\n",
       "    .dataframe tbody tr th {\n",
       "        vertical-align: top;\n",
       "    }\n",
       "\n",
       "    .dataframe thead th {\n",
       "        text-align: right;\n",
       "    }\n",
       "</style>\n",
       "<table border=\"1\" class=\"dataframe\">\n",
       "  <thead>\n",
       "    <tr style=\"text-align: center;\">\n",
       "      <th></th>\n",
       "      <th>brand</th>\n",
       "      <th>mean_price</th>\n",
       "      <th>mean_odomkm</th>\n",
       "      <th>%_in_autos</th>\n",
       "      <th>price_mileage_ratio</th>\n",
       "    </tr>\n",
       "  </thead>\n",
       "  <tbody>\n",
       "    <tr>\n",
       "      <th>0</th>\n",
       "      <td>daewoo</td>\n",
       "      <td>1049</td>\n",
       "      <td>121642</td>\n",
       "      <td>0</td>\n",
       "      <td>0.009</td>\n",
       "    </tr>\n",
       "    <tr>\n",
       "      <th>1</th>\n",
       "      <td>trabant</td>\n",
       "      <td>1790</td>\n",
       "      <td>54538</td>\n",
       "      <td>0</td>\n",
       "      <td>0.033</td>\n",
       "    </tr>\n",
       "    <tr>\n",
       "      <th>2</th>\n",
       "      <td>rover</td>\n",
       "      <td>1602</td>\n",
       "      <td>137661</td>\n",
       "      <td>0</td>\n",
       "      <td>0.012</td>\n",
       "    </tr>\n",
       "    <tr>\n",
       "      <th>3</th>\n",
       "      <td>lancia</td>\n",
       "      <td>3376</td>\n",
       "      <td>121900</td>\n",
       "      <td>0</td>\n",
       "      <td>0.028</td>\n",
       "    </tr>\n",
       "    <tr>\n",
       "      <th>4</th>\n",
       "      <td>lada</td>\n",
       "      <td>2688</td>\n",
       "      <td>83518</td>\n",
       "      <td>0</td>\n",
       "      <td>0.032</td>\n",
       "    </tr>\n",
       "  </tbody>\n",
       "</table>\n",
       "</div>"
      ],
      "text/plain": [
       "   brand    mean_price  mean_odomkm  %_in_autos  price_mileage_ratio\n",
       "0   daewoo     1049       121642          0             0.009       \n",
       "1  trabant     1790        54538          0             0.033       \n",
       "2    rover     1602       137661          0             0.012       \n",
       "3   lancia     3376       121900          0             0.028       \n",
       "4     lada     2688        83518          0             0.032       "
      ]
     },
     "metadata": {},
     "output_type": "display_data"
    }
   ],
   "source": [
    "# pretty print dataframes for five most sold brands and five least sold brands\n",
    "pd.set_option('display.max_rows', None)\n",
    "pd.set_option('display.max_columns', None)\n",
    "pd.set_option('display.width', 1000)\n",
    "pd.set_option('display.colheader_justify', 'center')\n",
    "pd.set_option('display.precision', 3)\n",
    "display(t5_df)\n",
    "display(l5_df)"
   ]
  },
  {
   "cell_type": "markdown",
   "metadata": {},
   "source": [
    "## Conclusion\n",
    "Vehicle brand is an easy way for consumers to evaluate a purchase. Using this as a starting point leads to a few coclusions.\n",
    "* The three most popular brands (Volkswagen, BMW, and Opel respectively) represent slightly more than 50% of the vehicles in the data set. Un-commenting \"# print(brand_value_counts)\" displays the frequency table.\n",
    "* Of the five least most popular vehicles, Ladas and Trabants have very low mileage. Their unpopularity is probably due to quality perceptions.\n",
    "* The price_mileage_ratio column shows the relationship between mean_price and mean_odomkm. The closer the number to zero, the lower the vehicle mileage per dollar spent. So, amongst the five most popular brands, audis had the lowest mileage per dollar in the mean price.\n",
    "* Additionally, this allows a comparison of value compared to popularity. The mean price for the five most popular cars is \\\\$6935 and for the five least popular it is \\\\$2101. The price to mileage ratio for the popular cars is 0.05 and for the unpopular cars it is 0.114. So not only is an unpopular car less expensive it is also a better deal if mileage is the only criteria.\n",
    "* Coding a dashboard to combine different columns and row slices to create new ratios would possibly show more unexpected results.\n",
    "* Lastly, it would be interesting to examine the rows with outlier prices. If the price is controled for in some way would that group reveal similar paterns?"
   ]
  }
 ],
 "metadata": {
  "kernelspec": {
   "display_name": "Python 3",
   "language": "python",
   "name": "python3"
  },
  "language_info": {
   "codemirror_mode": {
    "name": "ipython",
    "version": 3
   },
   "file_extension": ".py",
   "mimetype": "text/x-python",
   "name": "python",
   "nbconvert_exporter": "python",
   "pygments_lexer": "ipython3",
   "version": "3.8.5"
  }
 },
 "nbformat": 4,
 "nbformat_minor": 4
}
